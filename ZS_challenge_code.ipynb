{
  "nbformat": 4,
  "nbformat_minor": 0,
  "metadata": {
    "colab": {
      "name": "ZS challenge code.ipynb",
      "version": "0.3.2",
      "provenance": [],
      "include_colab_link": true
    },
    "kernelspec": {
      "name": "python3",
      "display_name": "Python 3"
    }
  },
  "cells": [
    {
      "cell_type": "markdown",
      "metadata": {
        "id": "view-in-github",
        "colab_type": "text"
      },
      "source": [
        "[View in Colaboratory](https://colab.research.google.com/github/DillipKS/ZS_2018_challenge/blob/master/ZS_challenge_code.ipynb)"
      ]
    },
    {
      "metadata": {
        "id": "xsKDKG0gcXUN",
        "colab_type": "text"
      },
      "cell_type": "markdown",
      "source": [
        "#ZS 2018 challenge conducted by Hackerrank. \n",
        "\n",
        "Link: https://www.hackerearth.com/challenge/competitive/zs-data-science-challenge-2018/\n",
        "\n",
        "Author: DILLIP KUMAR SAHOO\n",
        "\n",
        "This python notebook will introduce you to data visualisation and data manipulation. You will train a Linear Regressor with Adagrad optimizer and L2 regularization.\n",
        "\n",
        "**Happy coding!**"
      ]
    },
    {
      "metadata": {
        "id": "_NQULtpzrMJM",
        "colab_type": "code",
        "colab": {}
      },
      "cell_type": "code",
      "source": [
        "from __future__ import print_function\n",
        "\n",
        "import math\n",
        "\n",
        "from IPython import display\n",
        "from matplotlib import cm\n",
        "from matplotlib import gridspec\n",
        "from matplotlib import pyplot as plt\n",
        "import numpy as np\n",
        "import pandas as pd\n",
        "from sklearn import metrics\n",
        "import tensorflow as tf\n",
        "from tensorflow.python.data import Dataset\n",
        "\n",
        "tf.logging.set_verbosity(tf.logging.ERROR)\n",
        "pd.options.display.max_rows = 10\n",
        "pd.options.display.float_format = '{:.1f}'.format"
      ],
      "execution_count": 0,
      "outputs": []
    },
    {
      "metadata": {
        "id": "h69jACJscn7M",
        "colab_type": "code",
        "colab": {
          "base_uri": "https://localhost:8080/",
          "height": 36
        },
        "outputId": "eaa2dc79-5b98-4392-85fc-15a578f7788f"
      },
      "cell_type": "code",
      "source": [
        "!pip install -U -q PyDrive\n",
        "!pip install -U -q xlrd\n",
        "!pip install --upgrade pip\n",
        "from pydrive.auth import GoogleAuth\n",
        "from pydrive.drive import GoogleDrive\n",
        "from google.colab import auth\n",
        "from oauth2client.client import GoogleCredentials\n",
        "import pandas as pd"
      ],
      "execution_count": 2,
      "outputs": [
        {
          "output_type": "stream",
          "text": [
            "Requirement already up-to-date: pip in /usr/local/lib/python3.6/dist-packages (18.0)\r\n"
          ],
          "name": "stdout"
        }
      ]
    },
    {
      "metadata": {
        "id": "ZzwLf8-nLuWX",
        "colab_type": "text"
      },
      "cell_type": "markdown",
      "source": [
        "Import the datasets in your Google Drive from Github and make all of them shareable. In the shared link for each file, there will be a unique ID which you need to copy and paste here as value to the 'id' key."
      ]
    },
    {
      "metadata": {
        "id": "TEncxiv_mo-2",
        "colab_type": "code",
        "colab": {}
      },
      "cell_type": "code",
      "source": [
        "# Code to read csv file from Google Drive into colaboratory:\n",
        "\n",
        "#1. Authenticate and create the PyDrive client.\n",
        "auth.authenticate_user()\n",
        "gauth = GoogleAuth()\n",
        "gauth.credentials = GoogleCredentials.get_application_default()\n",
        "drive = GoogleDrive(gauth)\n",
        "\n",
        "#2. Get the file\n",
        "downloaded = drive.CreateFile({'id':'1HkQQm9ys0UiNRG1X2J66HZGcFFi75tna'})   # replace the id with id of file you want to access\n",
        "downloaded.GetContentFile('promotional_expenses.csv')  \n",
        "\n",
        "#3. Read file as panda dataframe\n",
        "expenses_df = pd.read_csv('promotional_expenses.csv') \n",
        "\n",
        "\n",
        "downloaded = drive.CreateFile({'id':'1Z_XB6-ruOICXEYs_1aEWY9h2WZNVT_JW'})\n",
        "downloaded.GetContentFile('yds_train2018.csv')  \n",
        "yds_train_df = pd.read_csv('yds_train2018.csv') \n",
        "\n",
        "downloaded = drive.CreateFile({'id':'17GNCPd-9TEruKVNUQTOkKraMOZRy3KgN'})\n",
        "downloaded.GetContentFile('yds_test2018.csv')  \n",
        "yds_test_df = pd.read_csv('yds_test2018.csv') \n",
        "\n",
        "downloaded = drive.CreateFile({'id':'1JMfYCyWxZVm71U5amCrOmL0HxC-BlV4w'})\n",
        "downloaded.GetContentFile('holidays.xlsx')  \n",
        "holidays_df = pd.read_excel('holidays.xlsx') "
      ],
      "execution_count": 0,
      "outputs": []
    },
    {
      "metadata": {
        "id": "ZA5p1S8PZvlF",
        "colab_type": "text"
      },
      "cell_type": "markdown",
      "source": [
        "** Data visualisation**\n",
        "\n",
        "\n",
        "Visualise the data as tables and histograms to understand the problem and data further.\n"
      ]
    },
    {
      "metadata": {
        "id": "YAe9Lv73c5FE",
        "colab_type": "code",
        "colab": {
          "base_uri": "https://localhost:8080/",
          "height": 720
        },
        "outputId": "a9148d4d-68db-49ee-e164-a047a63ecd09"
      },
      "cell_type": "code",
      "source": [
        "#1. Expenses data\n",
        "print(expenses_df.describe())\n",
        "print(expenses_df.hist())\n",
        "print(expenses_df.head())"
      ],
      "execution_count": 4,
      "outputs": [
        {
          "output_type": "stream",
          "text": [
            "        Year  Month  Product_ID  Expense_Price\n",
            "count  435.0  435.0       435.0          435.0\n",
            "mean  2014.6    6.2         2.5         9235.7\n",
            "std      1.2    3.5         1.3        18254.7\n",
            "min   2013.0    1.0         1.0          153.2\n",
            "25%   2014.0    3.0         2.0          518.1\n",
            "50%   2015.0    6.0         2.0         1732.6\n",
            "75%   2016.0    9.0         4.0         3603.5\n",
            "max   2017.0   12.0         5.0        84161.8\n",
            "[[<matplotlib.axes._subplots.AxesSubplot object at 0x7ff9e11b9978>\n",
            "  <matplotlib.axes._subplots.AxesSubplot object at 0x7ff9e0ad2668>]\n",
            " [<matplotlib.axes._subplots.AxesSubplot object at 0x7ff9e0a8b748>\n",
            "  <matplotlib.axes._subplots.AxesSubplot object at 0x7ff9e0adf9b0>]]\n",
            "   Year  Month    Country  Product_ID  Expense_Price\n",
            "0  2013      1  Argentina           1        14749.3\n",
            "1  2013      1  Argentina           2         1329.4\n",
            "2  2013      1    Belgium           2          249.6\n",
            "3  2013      1   Columbia           1         1893.1\n",
            "4  2013      1   Columbia           2         1436.7\n"
          ],
          "name": "stdout"
        },
        {
          "output_type": "display_data",
          "data": {
            "image/png": "[encoded data removed]",
            "text/plain": [
              "<matplotlib.figure.Figure at 0x7ff9e0b5b470>"
            ]
          },
          "metadata": {
            "tags": []
          }
        }
      ]
    },
    {
      "metadata": {
        "id": "zEoIZCz1dhb2",
        "colab_type": "code",
        "colab": {
          "base_uri": "https://localhost:8080/",
          "height": 130
        },
        "outputId": "ef90ce1a-87ec-448c-f693-a26d2684814a"
      },
      "cell_type": "code",
      "source": [
        "#2. Holidays date data\n",
        "print(holidays_df.head())"
      ],
      "execution_count": 5,
      "outputs": [
        {
          "output_type": "stream",
          "text": [
            "          Date  Country          Holiday\n",
            "0   2014, 1, 1  Denmark        Nytårsdag\n",
            "1  2014, 4, 17  Denmark      Skærtorsdag\n",
            "2  2014, 4, 18  Denmark       Langfredag\n",
            "3  2014, 4, 20  Denmark         Påskedag\n",
            "4  2014, 4, 21  Denmark   Anden påskedag\n"
          ],
          "name": "stdout"
        }
      ]
    },
    {
      "metadata": {
        "id": "N1pbRxhSdwGb",
        "colab_type": "code",
        "colab": {
          "base_uri": "https://localhost:8080/",
          "height": 758
        },
        "outputId": "8d70182e-bd56-4ab0-960d-42e42da67228"
      },
      "cell_type": "code",
      "source": [
        "#3. Training data\n",
        "\n",
        "print(yds_train_df.describe())\n",
        "print(yds_train_df.hist())\n",
        "print(yds_train_df.head())"
      ],
      "execution_count": 6,
      "outputs": [
        {
          "output_type": "stream",
          "text": [
            "         S_No    Year   Month    Week  Product_ID      Sales\n",
            "count 79072.0 79072.0 79072.0 79072.0     79072.0    79072.0\n",
            "mean  39536.5  2014.2     6.3    25.6         2.2   104967.8\n",
            "std   22826.3     1.0     3.5    15.2         1.1   764231.0\n",
            "min       1.0  2013.0     1.0     1.0         1.0 -2406068.7\n",
            "25%   19768.8  2013.0     3.0    12.0         1.0      952.5\n",
            "50%   39536.5  2014.0     6.0    25.0         2.0     6400.0\n",
            "75%   59304.2  2015.0     9.0    39.0         2.0    24185.2\n",
            "max   79072.0  2016.0    12.0    53.0         5.0 34874313.0\n",
            "[[<matplotlib.axes._subplots.AxesSubplot object at 0x7ff9de913588>\n",
            "  <matplotlib.axes._subplots.AxesSubplot object at 0x7ff9e09c8f28>]\n",
            " [<matplotlib.axes._subplots.AxesSubplot object at 0x7ff9de9400f0>\n",
            "  <matplotlib.axes._subplots.AxesSubplot object at 0x7ff9e09ddda0>]\n",
            " [<matplotlib.axes._subplots.AxesSubplot object at 0x7ff9e0b5b518>\n",
            "  <matplotlib.axes._subplots.AxesSubplot object at 0x7ff9e0b5b5f8>]]\n",
            "   S_No  Year  Month  Week Merchant_ID  Product_ID    Country    Sales\n",
            "0     1  2013      1     1     ar00001           1  Argentina 157500.0\n",
            "1     2  2013      1     1     ar00003           1  Argentina  39375.0\n",
            "2     3  2013      1     1     ar00004           1  Argentina  15750.0\n",
            "3     4  2013      1     1     ar00007           1  Argentina  47250.0\n",
            "4     5  2013      1     1     ar00008           1  Argentina 283500.0\n"
          ],
          "name": "stdout"
        },
        {
          "output_type": "display_data",
          "data": {
            "image/png": "[encoded data removed]",
            "text/plain": [
              "<matplotlib.figure.Figure at 0x7ff9de940a90>"
            ]
          },
          "metadata": {
            "tags": []
          }
        }
      ]
    },
    {
      "metadata": {
        "id": "a55kICZ7aTSW",
        "colab_type": "text"
      },
      "cell_type": "markdown",
      "source": [
        "Notice Sales value can be Negative."
      ]
    },
    {
      "metadata": {
        "id": "Smaqr_8deHS8",
        "colab_type": "code",
        "colab": {
          "base_uri": "https://localhost:8080/",
          "height": 423
        },
        "outputId": "e0c3a8be-f539-4d4a-b061-1245df465ff5"
      },
      "cell_type": "code",
      "source": [
        "yds_train_df.loc[(yds_train_df['Sales'] < 0)]"
      ],
      "execution_count": 7,
      "outputs": [
        {
          "output_type": "execute_result",
          "data": {
            "text/html": [
              "<div>\n",
              "<style scoped>\n",
              "    .dataframe tbody tr th:only-of-type {\n",
              "        vertical-align: middle;\n",
              "    }\n",
              "\n",
              "    .dataframe tbody tr th {\n",
              "        vertical-align: top;\n",
              "    }\n",
              "\n",
              "    .dataframe thead th {\n",
              "        text-align: right;\n",
              "    }\n",
              "</style>\n",
              "<table border=\"1\" class=\"dataframe\">\n",
              "  <thead>\n",
              "    <tr style=\"text-align: right;\">\n",
              "      <th></th>\n",
              "      <th>S_No</th>\n",
              "      <th>Year</th>\n",
              "      <th>Month</th>\n",
              "      <th>Week</th>\n",
              "      <th>Merchant_ID</th>\n",
              "      <th>Product_ID</th>\n",
              "      <th>Country</th>\n",
              "      <th>Sales</th>\n",
              "    </tr>\n",
              "  </thead>\n",
              "  <tbody>\n",
              "    <tr>\n",
              "      <th>2992</th>\n",
              "      <td>2993</td>\n",
              "      <td>2014</td>\n",
              "      <td>9</td>\n",
              "      <td>38</td>\n",
              "      <td>ar000012</td>\n",
              "      <td>1</td>\n",
              "      <td>Argentina</td>\n",
              "      <td>-40950.0</td>\n",
              "    </tr>\n",
              "    <tr>\n",
              "      <th>3994</th>\n",
              "      <td>3995</td>\n",
              "      <td>2015</td>\n",
              "      <td>4</td>\n",
              "      <td>18</td>\n",
              "      <td>ar000048</td>\n",
              "      <td>1</td>\n",
              "      <td>Argentina</td>\n",
              "      <td>-36225.0</td>\n",
              "    </tr>\n",
              "    <tr>\n",
              "      <th>4672</th>\n",
              "      <td>4673</td>\n",
              "      <td>2015</td>\n",
              "      <td>10</td>\n",
              "      <td>43</td>\n",
              "      <td>ar0000112</td>\n",
              "      <td>1</td>\n",
              "      <td>Argentina</td>\n",
              "      <td>-157500.0</td>\n",
              "    </tr>\n",
              "    <tr>\n",
              "      <th>4796</th>\n",
              "      <td>4797</td>\n",
              "      <td>2015</td>\n",
              "      <td>11</td>\n",
              "      <td>49</td>\n",
              "      <td>ar000070</td>\n",
              "      <td>1</td>\n",
              "      <td>Argentina</td>\n",
              "      <td>-14175.0</td>\n",
              "    </tr>\n",
              "    <tr>\n",
              "      <th>4820</th>\n",
              "      <td>4821</td>\n",
              "      <td>2015</td>\n",
              "      <td>12</td>\n",
              "      <td>49</td>\n",
              "      <td>ar000070</td>\n",
              "      <td>1</td>\n",
              "      <td>Argentina</td>\n",
              "      <td>-4725.0</td>\n",
              "    </tr>\n",
              "    <tr>\n",
              "      <th>...</th>\n",
              "      <td>...</td>\n",
              "      <td>...</td>\n",
              "      <td>...</td>\n",
              "      <td>...</td>\n",
              "      <td>...</td>\n",
              "      <td>...</td>\n",
              "      <td>...</td>\n",
              "      <td>...</td>\n",
              "    </tr>\n",
              "    <tr>\n",
              "      <th>77284</th>\n",
              "      <td>77285</td>\n",
              "      <td>2015</td>\n",
              "      <td>3</td>\n",
              "      <td>12</td>\n",
              "      <td>f000022</td>\n",
              "      <td>4</td>\n",
              "      <td>Finland</td>\n",
              "      <td>-907.0</td>\n",
              "    </tr>\n",
              "    <tr>\n",
              "      <th>77286</th>\n",
              "      <td>77287</td>\n",
              "      <td>2015</td>\n",
              "      <td>3</td>\n",
              "      <td>12</td>\n",
              "      <td>f000025</td>\n",
              "      <td>4</td>\n",
              "      <td>Finland</td>\n",
              "      <td>-226.7</td>\n",
              "    </tr>\n",
              "    <tr>\n",
              "      <th>77288</th>\n",
              "      <td>77289</td>\n",
              "      <td>2015</td>\n",
              "      <td>3</td>\n",
              "      <td>12</td>\n",
              "      <td>f000053</td>\n",
              "      <td>4</td>\n",
              "      <td>Finland</td>\n",
              "      <td>-2267.4</td>\n",
              "    </tr>\n",
              "    <tr>\n",
              "      <th>77291</th>\n",
              "      <td>77292</td>\n",
              "      <td>2015</td>\n",
              "      <td>3</td>\n",
              "      <td>13</td>\n",
              "      <td>f00002</td>\n",
              "      <td>4</td>\n",
              "      <td>Finland</td>\n",
              "      <td>-4534.8</td>\n",
              "    </tr>\n",
              "    <tr>\n",
              "      <th>78725</th>\n",
              "      <td>78726</td>\n",
              "      <td>2015</td>\n",
              "      <td>9</td>\n",
              "      <td>39</td>\n",
              "      <td>f000010</td>\n",
              "      <td>4</td>\n",
              "      <td>Finland</td>\n",
              "      <td>-755.8</td>\n",
              "    </tr>\n",
              "  </tbody>\n",
              "</table>\n",
              "<p>1002 rows × 8 columns</p>\n",
              "</div>"
            ],
            "text/plain": [
              "        S_No  Year  Month  Week Merchant_ID  Product_ID    Country     Sales\n",
              "2992    2993  2014      9    38    ar000012           1  Argentina  -40950.0\n",
              "3994    3995  2015      4    18    ar000048           1  Argentina  -36225.0\n",
              "4672    4673  2015     10    43   ar0000112           1  Argentina -157500.0\n",
              "4796    4797  2015     11    49    ar000070           1  Argentina  -14175.0\n",
              "4820    4821  2015     12    49    ar000070           1  Argentina   -4725.0\n",
              "...      ...   ...    ...   ...         ...         ...        ...       ...\n",
              "77284  77285  2015      3    12     f000022           4    Finland    -907.0\n",
              "77286  77287  2015      3    12     f000025           4    Finland    -226.7\n",
              "77288  77289  2015      3    12     f000053           4    Finland   -2267.4\n",
              "77291  77292  2015      3    13      f00002           4    Finland   -4534.8\n",
              "78725  78726  2015      9    39     f000010           4    Finland    -755.8\n",
              "\n",
              "[1002 rows x 8 columns]"
            ]
          },
          "metadata": {
            "tags": []
          },
          "execution_count": 7
        }
      ]
    },
    {
      "metadata": {
        "id": "Yazu63X9eRi5",
        "colab_type": "code",
        "colab": {
          "base_uri": "https://localhost:8080/",
          "height": 909
        },
        "outputId": "fcb898a7-b1eb-4e96-a9d9-78948fc5e5bd"
      },
      "cell_type": "code",
      "source": [
        "#4. Test data\n",
        "# Value in Sales column needs to be predicted\n",
        "\n",
        "print(yds_test_df.describe())\n",
        "print(yds_test_df)\n",
        "print(yds_test_df.hist())"
      ],
      "execution_count": 149,
      "outputs": [
        {
          "output_type": "stream",
          "text": [
            "         S_No   Year  Month  Product_ID  Sales\n",
            "count   105.0  105.0  105.0       105.0    0.0\n",
            "mean  79125.0 2016.2    6.0         2.4    nan\n",
            "std      30.5    0.5    3.6         1.3    nan\n",
            "min   79073.0 2015.0    1.0         1.0    nan\n",
            "25%   79099.0 2016.0    3.0         2.0    nan\n",
            "50%   79125.0 2016.0    6.0         2.0    nan\n",
            "75%   79151.0 2016.0    9.0         4.0    nan\n",
            "max   79177.0 2017.0   12.0         5.0    nan\n",
            "      S_No  Year  Month  Product_ID    Country  Sales\n",
            "0    79073  2016      4           1  Argentina    nan\n",
            "1    79074  2016      5           1  Argentina    nan\n",
            "2    79075  2016      6           1  Argentina    nan\n",
            "3    79076  2016      7           1  Argentina    nan\n",
            "4    79077  2016      8           1  Argentina    nan\n",
            "..     ...   ...    ...         ...        ...    ...\n",
            "100  79173  2016      3           4    Finland    nan\n",
            "101  79174  2016      4           4    Finland    nan\n",
            "102  79175  2016      5           4    Finland    nan\n",
            "103  79176  2016      6           4    Finland    nan\n",
            "104  79177  2016      7           4    Finland    nan\n",
            "\n",
            "[105 rows x 6 columns]\n",
            "[[<matplotlib.axes._subplots.AxesSubplot object at 0x7ff9d45bea58>\n",
            "  <matplotlib.axes._subplots.AxesSubplot object at 0x7ff9d378b4e0>]\n",
            " [<matplotlib.axes._subplots.AxesSubplot object at 0x7ff9d376b6a0>\n",
            "  <matplotlib.axes._subplots.AxesSubplot object at 0x7ff9d4270780>]\n",
            " [<matplotlib.axes._subplots.AxesSubplot object at 0x7ff9d429b390>\n",
            "  <matplotlib.axes._subplots.AxesSubplot object at 0x7ff9d429bac8>]]\n"
          ],
          "name": "stdout"
        },
        {
          "output_type": "display_data",
          "data": {
            "image/png": "[encoded data removed]",
            "text/plain": [
              "<matplotlib.figure.Figure at 0x7ff9d4457cc0>"
            ]
          },
          "metadata": {
            "tags": []
          }
        }
      ]
    },
    {
      "metadata": {
        "id": "YJsDAWiZe6pa",
        "colab_type": "text"
      },
      "cell_type": "markdown",
      "source": [
        "Merchant_ID and Week columns are not present in Test data. At first glance, they seem irrelevant for Model training. Hence, group Training data rows summing the Sales value for common Merchant_ID and Week values."
      ]
    },
    {
      "metadata": {
        "id": "EoWKWFQ4e6Mr",
        "colab_type": "code",
        "colab": {
          "base_uri": "https://localhost:8080/",
          "height": 733
        },
        "outputId": "e440a341-4c4c-4285-fe59-fe4457e3d1cd"
      },
      "cell_type": "code",
      "source": [
        "grouped_df = yds_train_df[[\"Year\",\"Month\",\"Product_ID\",\"Country\",\"Sales\"]]\n",
        "grouped_df = grouped_df.groupby([\"Year\",\"Month\",\"Country\",\"Product_ID\"]).sum().apply(list)\n",
        "grouped_df = grouped_df.reset_index()    # flattening the grouped dataframe\n",
        "\n",
        "print(grouped_df.head())\n",
        "print(grouped_df.describe())\n",
        "print(grouped_df.hist())"
      ],
      "execution_count": 9,
      "outputs": [
        {
          "output_type": "stream",
          "text": [
            "   Year  Month    Country  Product_ID      Sales\n",
            "0  2013      1  Argentina           1 34346025.0\n",
            "1  2013      1  Argentina           2  2751851.5\n",
            "2  2013      1    Belgium           2   314850.1\n",
            "3  2013      1   Columbia           1  3947356.3\n",
            "4  2013      1   Columbia           2  2885137.1\n",
            "        Year  Month  Product_ID       Sales\n",
            "count  388.0  388.0       388.0       388.0\n",
            "mean  2014.3    6.3         2.5  21391784.2\n",
            "std      1.0    3.5         1.2  39046567.5\n",
            "min   2013.0    1.0         1.0     22459.6\n",
            "25%   2013.0    3.0         2.0    660477.9\n",
            "50%   2014.0    6.0         2.0   4482666.0\n",
            "75%   2015.0    9.0         4.0  24031179.4\n",
            "max   2016.0   12.0         5.0 199093884.0\n",
            "[[<matplotlib.axes._subplots.AxesSubplot object at 0x7ff9de647ac8>\n",
            "  <matplotlib.axes._subplots.AxesSubplot object at 0x7ff9de61b240>]\n",
            " [<matplotlib.axes._subplots.AxesSubplot object at 0x7ff9de5d0860>\n",
            "  <matplotlib.axes._subplots.AxesSubplot object at 0x7ff9de56e668>]]\n"
          ],
          "name": "stdout"
        },
        {
          "output_type": "display_data",
          "data": {
            "image/png": "[encoded data removed]",
            "text/plain": [
              "<matplotlib.figure.Figure at 0x7ff9de87fa20>"
            ]
          },
          "metadata": {
            "tags": []
          }
        }
      ]
    },
    {
      "metadata": {
        "id": "8C6NJDHkf1Ym",
        "colab_type": "text"
      },
      "cell_type": "markdown",
      "source": [
        "Notice that Sales value in the grouped Training data is always positive for all rows. Also, the total number of rows now are 388, earlier there were 79072 rows.\n",
        "\n",
        "Expenses data is given against 4 features, namely, Year, Month, Country and Product_ID, which are also the ones in grouped Training and Test data. Hence, merge Expenses data with grouped Training and Test data."
      ]
    },
    {
      "metadata": {
        "id": "Vt31g4hhem8n",
        "colab_type": "code",
        "colab": {
          "base_uri": "https://localhost:8080/",
          "height": 909
        },
        "outputId": "2ea6ae7b-2ec0-4f6d-dc7b-d0e52fb292e5"
      },
      "cell_type": "code",
      "source": [
        "merge_train_df = pd.merge(expenses_df, grouped_df, on = ['Year','Month','Product_ID','Country'], how='right')\n",
        "\n",
        "print(merge_train_df.describe())\n",
        "print(merge_train_df.hist())\n",
        "print(merge_train_df)"
      ],
      "execution_count": 10,
      "outputs": [
        {
          "output_type": "stream",
          "text": [
            "        Year  Month  Product_ID  Expense_Price       Sales\n",
            "count  388.0  388.0       388.0          336.0       388.0\n",
            "mean  2014.3    6.3         2.5         8744.2  21391784.2\n",
            "std      1.0    3.5         1.2        16803.4  39046567.5\n",
            "min   2013.0    1.0         1.0          153.2     22459.6\n",
            "25%   2013.0    3.0         2.0          436.4    660477.9\n",
            "50%   2014.0    6.0         2.0         1732.2   4482666.0\n",
            "75%   2015.0    9.0         4.0         3397.4  24031179.4\n",
            "max   2016.0   12.0         5.0        80201.5 199093884.0\n",
            "[[<matplotlib.axes._subplots.AxesSubplot object at 0x7ff9de4e1cf8>\n",
            "  <matplotlib.axes._subplots.AxesSubplot object at 0x7ff9de441eb8>]\n",
            " [<matplotlib.axes._subplots.AxesSubplot object at 0x7ff9de403048>\n",
            "  <matplotlib.axes._subplots.AxesSubplot object at 0x7ff9de3b9198>]\n",
            " [<matplotlib.axes._subplots.AxesSubplot object at 0x7ff9de373278>\n",
            "  <matplotlib.axes._subplots.AxesSubplot object at 0x7ff9de3732b0>]]\n",
            "     Year  Month    Country  Product_ID  Expense_Price      Sales\n",
            "0    2013      1  Argentina           1        14749.3 34346025.0\n",
            "1    2013      1  Argentina           2         1329.4  2751851.5\n",
            "2    2013      1    Belgium           2          249.6   314850.1\n",
            "3    2013      1   Columbia           1         1893.1  3947356.3\n",
            "4    2013      1   Columbia           2         1436.7  2885137.1\n",
            "..    ...    ...        ...         ...            ...        ...\n",
            "383  2016     10   Columbia           3            nan  3196697.4\n",
            "384  2016     11  Argentina           3            nan 19826100.0\n",
            "385  2016     11   Columbia           3            nan  4263236.6\n",
            "386  2016     12  Argentina           3            nan 16550100.0\n",
            "387  2016     12   Columbia           3            nan  4351764.9\n",
            "\n",
            "[388 rows x 6 columns]\n"
          ],
          "name": "stdout"
        },
        {
          "output_type": "display_data",
          "data": {
            "image/png": "[encoded data removed]",
            "text/plain": [
              "<matplotlib.figure.Figure at 0x7ff9de505e10>"
            ]
          },
          "metadata": {
            "tags": []
          }
        }
      ]
    },
    {
      "metadata": {
        "id": "z0DzrweBhzDx",
        "colab_type": "text"
      },
      "cell_type": "markdown",
      "source": [
        "Notice that there are some rows with Nan value against Expense_Price column. It means expenses data is unavailable for those rows in the grouped Training data.\n",
        "\n",
        "Values in Expense_Price and Sales column are given in local currency of that particular country. We need to convert them to a common currency (like USD) and scale those values accordingly."
      ]
    },
    {
      "metadata": {
        "id": "FnbKagagiMqb",
        "colab_type": "text"
      },
      "cell_type": "markdown",
      "source": [
        "Conversion rate for different currencies to USD as on 23rd July '18 are used as below:\n",
        "\n",
        "\n",
        "*   arg_usd = 0.036 (Argentina)\n",
        "*   bel_usd = 1.17 (Belgium)\n",
        "*   col_usd = 0.00035 (Columbia)\n",
        "*   den_usd = 0.16 (Denmark)\n",
        "*   eng_usd = 1.31 (England)\n",
        "*   fin_usd = 1.17 (Finland)  "
      ]
    },
    {
      "metadata": {
        "id": "upddyGSQhN-D",
        "colab_type": "code",
        "colab": {}
      },
      "cell_type": "code",
      "source": [
        "def scaling_usd(merge_train_df):\n",
        "  # Scaling local currency to USD\n",
        "  \n",
        "  merge_train_df[\"Scaled_Expense_Price\"] = pd.Series()\n",
        "  merge_train_df[\"Scaled_Sales\"] = pd.Series()\n",
        "\n",
        "  # Local currency to USD conversion rate\n",
        "  arg_usd = 0.036\n",
        "  bel_usd = 1.17\n",
        "  col_usd = 0.00035\n",
        "  den_usd = 0.16\n",
        "  eng_usd = 1.31\n",
        "  fin_usd = 1.17\n",
        "\n",
        "  for i, row in merge_train_df.iterrows():\n",
        "    if row[\"Country\"] == 'Argentina':\n",
        "      merge_train_df.at[i, \"Scaled_Expense_Price\"] = arg_usd * row[\"Expense_Price\"]\n",
        "      merge_train_df.at[i, \"Scaled_Sales\"] = arg_usd * row[\"Sales\"]\n",
        "    elif row[\"Country\"] == 'Belgium':\n",
        "      merge_train_df.at[i, \"Scaled_Expense_Price\"] = bel_usd * row[\"Expense_Price\"]\n",
        "      merge_train_df.at[i, \"Scaled_Sales\"] = bel_usd * row[\"Sales\"]\n",
        "    elif row[\"Country\"] == 'Columbia':\n",
        "      merge_train_df.at[i, \"Scaled_Expense_Price\"] = col_usd * row[\"Expense_Price\"]\n",
        "      merge_train_df.at[i, \"Scaled_Sales\"] = col_usd * row[\"Sales\"]\n",
        "    elif row[\"Country\"] == 'Denmark':\n",
        "      merge_train_df.at[i, \"Scaled_Expense_Price\"] = den_usd * row[\"Expense_Price\"]\n",
        "      merge_train_df.at[i, \"Scaled_Sales\"] = den_usd * row[\"Sales\"]\n",
        "    elif row[\"Country\"] == 'England':\n",
        "      merge_train_df.at[i, \"Scaled_Expense_Price\"] = eng_usd * row[\"Expense_Price\"]\n",
        "      merge_train_df.at[i, \"Scaled_Sales\"] = eng_usd * row[\"Sales\"]\n",
        "    elif row[\"Country\"] == 'Finland':\n",
        "      merge_train_df.at[i, \"Scaled_Expense_Price\"] = fin_usd * row[\"Expense_Price\"]\n",
        "      merge_train_df.at[i, \"Scaled_Sales\"] = fin_usd * row[\"Sales\"]\n",
        "  \n",
        "  return merge_train_df"
      ],
      "execution_count": 0,
      "outputs": []
    },
    {
      "metadata": {
        "id": "EexugV6kjW-u",
        "colab_type": "code",
        "colab": {
          "base_uri": "https://localhost:8080/",
          "height": 1136
        },
        "outputId": "8925f0a5-32ba-45ed-8ccc-7e5ebceceeb1"
      },
      "cell_type": "code",
      "source": [
        "merge_train_df = scaling_usd(merge_train_df)\n",
        "print(merge_train_df.head())\n",
        "print(merge_train_df.hist())\n",
        "print(merge_train_df.describe())"
      ],
      "execution_count": 12,
      "outputs": [
        {
          "output_type": "stream",
          "text": [
            "   Year  Month    Country  Product_ID  Expense_Price      Sales  \\\n",
            "0  2013      1  Argentina           1        14749.3 34346025.0   \n",
            "1  2013      1  Argentina           2         1329.4  2751851.5   \n",
            "2  2013      1    Belgium           2          249.6   314850.1   \n",
            "3  2013      1   Columbia           1         1893.1  3947356.3   \n",
            "4  2013      1   Columbia           2         1436.7  2885137.1   \n",
            "\n",
            "   Scaled_Expense_Price  Scaled_Sales  \n",
            "0                 531.0     1236456.9  \n",
            "1                  47.9       99066.7  \n",
            "2                 292.0      368374.7  \n",
            "3                   0.7        1381.6  \n",
            "4                   0.5        1009.8  \n",
            "[[<matplotlib.axes._subplots.AxesSubplot object at 0x7ffa0f804400>\n",
            "  <matplotlib.axes._subplots.AxesSubplot object at 0x7ff9de316d30>\n",
            "  <matplotlib.axes._subplots.AxesSubplot object at 0x7ff9de309b70>]\n",
            " [<matplotlib.axes._subplots.AxesSubplot object at 0x7ff9de428828>\n",
            "  <matplotlib.axes._subplots.AxesSubplot object at 0x7ff9de31fa20>\n",
            "  <matplotlib.axes._subplots.AxesSubplot object at 0x7ff9de31f320>]\n",
            " [<matplotlib.axes._subplots.AxesSubplot object at 0x7ff9de765c88>\n",
            "  <matplotlib.axes._subplots.AxesSubplot object at 0x7ff9de867a20>\n",
            "  <matplotlib.axes._subplots.AxesSubplot object at 0x7ff9de8eff98>]]\n",
            "        Year  Month  Product_ID  Expense_Price       Sales  \\\n",
            "count  388.0  388.0       388.0          336.0       388.0   \n",
            "mean  2014.3    6.3         2.5         8744.2  21391784.2   \n",
            "std      1.0    3.5         1.2        16803.4  39046567.5   \n",
            "min   2013.0    1.0         1.0          153.2     22459.6   \n",
            "25%   2013.0    3.0         2.0          436.4    660477.9   \n",
            "50%   2014.0    6.0         2.0         1732.2   4482666.0   \n",
            "75%   2015.0    9.0         4.0         3397.4  24031179.4   \n",
            "max   2016.0   12.0         5.0        80201.5 199093884.0   \n",
            "\n",
            "       Scaled_Expense_Price  Scaled_Sales  \n",
            "count                 336.0         388.0  \n",
            "mean                 1334.8     5296309.9  \n",
            "std                  2664.3    10904830.5  \n",
            "min                     0.4           7.9  \n",
            "25%                    63.5        2357.0  \n",
            "50%                   413.4      540074.9  \n",
            "75%                   685.6     1359115.3  \n",
            "max                 12832.2    58633293.4  \n"
          ],
          "name": "stdout"
        },
        {
          "output_type": "display_data",
          "data": {
            "image/png": "[encoded data removed]",
            "text/plain": [
              "<matplotlib.figure.Figure at 0x7ff9de2c9f60>"
            ]
          },
          "metadata": {
            "tags": []
          }
        }
      ]
    },
    {
      "metadata": {
        "id": "6E70Li4IkNQm",
        "colab_type": "text"
      },
      "cell_type": "markdown",
      "source": [
        "After grouping and standardizing the training data, let's visualize the data now between each feature and target value (Scaled_Sales)."
      ]
    },
    {
      "metadata": {
        "id": "JRqNBFR9jfZY",
        "colab_type": "code",
        "colab": {
          "base_uri": "https://localhost:8080/",
          "height": 377
        },
        "outputId": "8041b35c-3367-4757-a8bd-952364e87112"
      },
      "cell_type": "code",
      "source": [
        "plt.scatter(merge_train_df[\"Scaled_Expense_Price\"], merge_train_df[\"Scaled_Sales\"])"
      ],
      "execution_count": 13,
      "outputs": [
        {
          "output_type": "execute_result",
          "data": {
            "text/plain": [
              "<matplotlib.collections.PathCollection at 0x7ff9de4ee9e8>"
            ]
          },
          "metadata": {
            "tags": []
          },
          "execution_count": 13
        },
        {
          "output_type": "display_data",
          "data": {
            "image/png": "[encoded data removed]",
            "text/plain": [
              "<matplotlib.figure.Figure at 0x7ff9de2c92b0>"
            ]
          },
          "metadata": {
            "tags": []
          }
        }
      ]
    },
    {
      "metadata": {
        "id": "WxecVqYEk4DI",
        "colab_type": "text"
      },
      "cell_type": "markdown",
      "source": [
        "Notice how all the data points are grouped in 3 different bins, first in which points are close to 0, second in which expense price < 2200 and points are aligned in a line having high slope, 3rd in which expense price > 5000 and points align in a line having moderate slope in above graph Scaled_Expense_Price v/s Scaled_Sales. Capture the data points placed in these 3 bins and plot them separately.\n",
        "\n"
      ]
    },
    {
      "metadata": {
        "id": "KEtZxHSUkVvN",
        "colab_type": "code",
        "colab": {
          "base_uri": "https://localhost:8080/",
          "height": 377
        },
        "outputId": "6e8dfdcf-bbd8-4468-ce61-2c4bee803f8d"
      },
      "cell_type": "code",
      "source": [
        "plt.scatter(merge_train_df[\"Product_ID\"], merge_train_df[\"Scaled_Sales\"])"
      ],
      "execution_count": 14,
      "outputs": [
        {
          "output_type": "execute_result",
          "data": {
            "text/plain": [
              "<matplotlib.collections.PathCollection at 0x7ff9de902da0>"
            ]
          },
          "metadata": {
            "tags": []
          },
          "execution_count": 14
        },
        {
          "output_type": "display_data",
          "data": {
            "image/png": "[encoded data removed]",
            "text/plain": [
              "<matplotlib.figure.Figure at 0x7ff9de2707f0>"
            ]
          },
          "metadata": {
            "tags": []
          }
        }
      ]
    },
    {
      "metadata": {
        "id": "MqnJl0gbkWP1",
        "colab_type": "code",
        "colab": {
          "base_uri": "https://localhost:8080/",
          "height": 377
        },
        "outputId": "5e083852-4944-4ee0-96ed-fc0528bcca0e"
      },
      "cell_type": "code",
      "source": [
        "plt.scatter(merge_train_df[\"Country\"], merge_train_df[\"Scaled_Sales\"])"
      ],
      "execution_count": 15,
      "outputs": [
        {
          "output_type": "execute_result",
          "data": {
            "text/plain": [
              "<matplotlib.collections.PathCollection at 0x7ff9de843470>"
            ]
          },
          "metadata": {
            "tags": []
          },
          "execution_count": 15
        },
        {
          "output_type": "display_data",
          "data": {
            "image/png": "[encoded data removed]",
            "text/plain": [
              "<matplotlib.figure.Figure at 0x7ff9de65e2e8>"
            ]
          },
          "metadata": {
            "tags": []
          }
        }
      ]
    },
    {
      "metadata": {
        "id": "opTQj-VxbzqK",
        "colab_type": "text"
      },
      "cell_type": "markdown",
      "source": [
        "Notice above graph of country-wise Sales. We see that Scaled_Sales value for two countries, namely, Finland and Denmark are quite high, well above the rest. Something similar we also noticed in Expenses v/s Sales graph."
      ]
    },
    {
      "metadata": {
        "id": "-eo7vJFrkY0Q",
        "colab_type": "code",
        "colab": {
          "base_uri": "https://localhost:8080/",
          "height": 377
        },
        "outputId": "e2f55261-4406-4618-eee4-1e48939699e2"
      },
      "cell_type": "code",
      "source": [
        "plt.scatter(merge_train_df[\"Month\"], merge_train_df[\"Scaled_Sales\"])"
      ],
      "execution_count": 16,
      "outputs": [
        {
          "output_type": "execute_result",
          "data": {
            "text/plain": [
              "<matplotlib.collections.PathCollection at 0x7ff9de52f828>"
            ]
          },
          "metadata": {
            "tags": []
          },
          "execution_count": 16
        },
        {
          "output_type": "display_data",
          "data": {
            "image/png": "[encoded data removed]",
            "text/plain": [
              "<matplotlib.figure.Figure at 0x7ff9de612860>"
            ]
          },
          "metadata": {
            "tags": []
          }
        }
      ]
    },
    {
      "metadata": {
        "id": "RUAZ6gQfgS8B",
        "colab_type": "text"
      },
      "cell_type": "markdown",
      "source": [
        "Parse the Date column in Holidays data to extract Year and Month. Convert Holidays data as per the grouped Training data by adding scaled Expenses and Sales value to visualise how holidays drive the Sales value."
      ]
    },
    {
      "metadata": {
        "id": "07vypg9mfhX2",
        "colab_type": "code",
        "colab": {
          "base_uri": "https://localhost:8080/",
          "height": 451
        },
        "outputId": "93d0e3d8-48cd-400c-e06e-7323ddf3d9ed"
      },
      "cell_type": "code",
      "source": [
        "holidays = pd.DataFrame()\n",
        "year = []\n",
        "month = []\n",
        "\n",
        "for i in holidays_df[\"Date\"]:\n",
        "  date = i.split(',')\n",
        "  year.append(int(date[0]))\n",
        "  month.append(int(date[1]))\n",
        "\n",
        "holidays[\"Year\"] = year\n",
        "holidays[\"Month\"] = month\n",
        "holidays[\"Country\"] = holidays_df[\"Country\"]\n",
        "holidays = holidays.drop_duplicates()\n",
        "\n",
        "print(holidays)\n",
        "print(holidays.describe())"
      ],
      "execution_count": 0,
      "outputs": [
        {
          "output_type": "stream",
          "text": [
            "     Year  Month  Country\n",
            "0    2014      1  Denmark\n",
            "1    2014      4  Denmark\n",
            "5    2014      5  Denmark\n",
            "7    2014      6  Denmark\n",
            "9    2014     12  Denmark\n",
            "..    ...    ...      ...\n",
            "640  2018      4  Finland\n",
            "642  2018      5  Finland\n",
            "645  2018      6  Finland\n",
            "646  2018     11  Finland\n",
            "647  2018     12  Finland\n",
            "\n",
            "[353 rows x 3 columns]\n",
            "        Year  Month\n",
            "count  353.0  353.0\n",
            "mean  2014.5    6.3\n",
            "std      2.3    3.6\n",
            "min   2011.0    1.0\n",
            "25%   2013.0    4.0\n",
            "50%   2014.0    6.0\n",
            "75%   2017.0   10.0\n",
            "max   2018.0   12.0\n"
          ],
          "name": "stdout"
        }
      ]
    },
    {
      "metadata": {
        "id": "Wn8XM4qZgTjO",
        "colab_type": "code",
        "colab": {
          "base_uri": "https://localhost:8080/",
          "height": 885
        },
        "outputId": "035b29b1-de10-4b55-b44d-2b619c203d6f"
      },
      "cell_type": "code",
      "source": [
        "drop_prod = merge_train_df.drop(columns=\"Product_ID\")\n",
        "drop_prod = drop_prod.groupby([\"Year\",\"Month\",\"Country\"]).sum().apply(list).reset_index()\n",
        "\n",
        "merge_holidays = pd.merge(holidays, drop_prod, on=['Year','Month','Country'], how='inner')\n",
        "print(merge_holidays.describe())\n",
        "print(merge_holidays)"
      ],
      "execution_count": 32,
      "outputs": [
        {
          "output_type": "stream",
          "text": [
            "        Year  Month  Expense_Price       Sales  Scaled_Expense_Price  \\\n",
            "count  154.0  154.0          154.0       154.0                 154.0   \n",
            "mean  2014.3    6.2        10369.6  29623662.5                1351.4   \n",
            "std      1.1    3.6        16205.3  38652354.2                2530.1   \n",
            "min   2013.0    1.0            0.0    268694.1                   0.0   \n",
            "25%   2013.0    3.2          541.5   1483413.4                   1.8   \n",
            "50%   2014.0    5.5         3629.8  13611601.8                 611.1   \n",
            "75%   2015.0   10.0        15982.2  41850412.7                 815.3   \n",
            "max   2016.0   12.0        80201.5 199093884.0               12832.2   \n",
            "\n",
            "       Scaled_Sales  \n",
            "count         154.0  \n",
            "mean      6544325.0  \n",
            "std      11485566.8  \n",
            "min           632.3  \n",
            "25%        411287.4  \n",
            "50%       1253215.1  \n",
            "75%       1823287.0  \n",
            "max      43674039.3  \n",
            "     Year  Month  Country  Expense_Price       Sales  Scaled_Expense_Price  \\\n",
            "0    2014      1  Denmark        53041.9 126116161.9                8486.7   \n",
            "1    2014      4  Denmark        43210.8 102353411.0                6913.7   \n",
            "2    2014      5  Denmark        45318.1 103370491.4                7250.9   \n",
            "3    2014      6  Denmark        54103.3 122201643.6                8656.5   \n",
            "4    2014     12  Denmark        59005.9 143531544.7                9440.9   \n",
            "..    ...    ...      ...            ...         ...                   ...   \n",
            "149  2015      1  Finland         1416.9  30706372.8                1657.7   \n",
            "150  2015      4  Finland         1432.3  31067218.0                1675.8   \n",
            "151  2015      5  Finland         1148.4  24446467.6                1343.6   \n",
            "152  2015      6  Finland         1517.1  31931776.3                1775.0   \n",
            "153  2015     10  Finland         1441.1  31268810.9                1686.0   \n",
            "\n",
            "     Scaled_Sales  \n",
            "0      20178585.9  \n",
            "1      16376545.8  \n",
            "2      16539278.6  \n",
            "3      19552263.0  \n",
            "4      22965047.2  \n",
            "..            ...  \n",
            "149    35926456.2  \n",
            "150    36348645.0  \n",
            "151    28602367.1  \n",
            "152    37360178.3  \n",
            "153    36584508.7  \n",
            "\n",
            "[154 rows x 7 columns]\n"
          ],
          "name": "stdout"
        }
      ]
    },
    {
      "metadata": {
        "id": "pTNoEpbWgTgD",
        "colab_type": "code",
        "colab": {
          "base_uri": "https://localhost:8080/",
          "height": 55
        },
        "outputId": "6bccaaf5-29c4-4617-8fe9-4e8067d0e41c"
      },
      "cell_type": "code",
      "source": [
        "print(merge_holidays.shape[0])\n",
        "print(merge_train_df.shape[0])"
      ],
      "execution_count": 33,
      "outputs": [
        {
          "output_type": "stream",
          "text": [
            "154\n",
            "388\n"
          ],
          "name": "stdout"
        }
      ]
    },
    {
      "metadata": {
        "id": "AX4n74leiFk8",
        "colab_type": "text"
      },
      "cell_type": "markdown",
      "source": [
        "Notice that the number of rows in merged Holidays table has been reduced to 154 from 353 rows in Holidays table. It implies that Expenses and Sales data for as many as 299 data points in Holidays table are not available in merged Training data. It is possible that some data points absent in Training data are present in Test data."
      ]
    },
    {
      "metadata": {
        "id": "dnJQgygJgTcd",
        "colab_type": "code",
        "colab": {
          "base_uri": "https://localhost:8080/",
          "height": 377
        },
        "outputId": "1a531f43-f5ae-4466-c7d2-d86cc9e65baa"
      },
      "cell_type": "code",
      "source": [
        "plt.scatter(merge_holidays[\"Scaled_Expense_Price\"], merge_holidays[\"Scaled_Sales\"])"
      ],
      "execution_count": 35,
      "outputs": [
        {
          "output_type": "execute_result",
          "data": {
            "text/plain": [
              "<matplotlib.collections.PathCollection at 0x7ff9de38fd30>"
            ]
          },
          "metadata": {
            "tags": []
          },
          "execution_count": 35
        },
        {
          "output_type": "display_data",
          "data": {
            "image/png": "[encoded data removed]",
            "text/plain": [
              "<matplotlib.figure.Figure at 0x7ff9e0a81cf8>"
            ]
          },
          "metadata": {
            "tags": []
          }
        }
      ]
    },
    {
      "metadata": {
        "id": "0zZahHN4jvhz",
        "colab_type": "code",
        "colab": {
          "base_uri": "https://localhost:8080/",
          "height": 377
        },
        "outputId": "22765eb3-1fb9-4be6-83ae-afb5458543dc"
      },
      "cell_type": "code",
      "source": [
        "plt.scatter(merge_train_df[\"Scaled_Expense_Price\"], merge_train_df[\"Scaled_Sales\"])"
      ],
      "execution_count": 36,
      "outputs": [
        {
          "output_type": "execute_result",
          "data": {
            "text/plain": [
              "<matplotlib.collections.PathCollection at 0x7ff9de3f6a58>"
            ]
          },
          "metadata": {
            "tags": []
          },
          "execution_count": 36
        },
        {
          "output_type": "display_data",
          "data": {
            "image/png": "[encoded data removed]",
            "text/plain": [
              "<matplotlib.figure.Figure at 0x7ff9de415860>"
            ]
          },
          "metadata": {
            "tags": []
          }
        }
      ]
    },
    {
      "metadata": {
        "id": "DlFl65eIlbvF",
        "colab_type": "code",
        "colab": {
          "base_uri": "https://localhost:8080/",
          "height": 377
        },
        "outputId": "41cd71f0-e390-4a80-9360-5f38c4d35ca6"
      },
      "cell_type": "code",
      "source": [
        "plt.scatter(merge_holidays[\"Country\"], merge_holidays[\"Scaled_Sales\"])"
      ],
      "execution_count": 41,
      "outputs": [
        {
          "output_type": "execute_result",
          "data": {
            "text/plain": [
              "<matplotlib.collections.PathCollection at 0x7ff9de7c8b38>"
            ]
          },
          "metadata": {
            "tags": []
          },
          "execution_count": 41
        },
        {
          "output_type": "display_data",
          "data": {
            "image/png": "[encoded data removed]",
            "text/plain": [
              "<matplotlib.figure.Figure at 0x7ff9de3c8978>"
            ]
          },
          "metadata": {
            "tags": []
          }
        }
      ]
    },
    {
      "metadata": {
        "id": "liEIShiwlXwf",
        "colab_type": "text"
      },
      "cell_type": "markdown",
      "source": [
        "We see that not much difference is there between plots for data points in Holidays and grouped Training data. So, it seems like nothing new can be learned from Holidays data."
      ]
    },
    {
      "metadata": {
        "id": "bqVWufgwcYJu",
        "colab_type": "text"
      },
      "cell_type": "markdown",
      "source": [
        "Segregate training data into 3 bins based on their Expenses and Sales value as suggested above. Look for the country for which data in each bin belongs to. Compare the binned data with training data for that particular country."
      ]
    },
    {
      "metadata": {
        "id": "8_w5sLdbkahr",
        "colab_type": "code",
        "colab": {
          "base_uri": "https://localhost:8080/",
          "height": 905
        },
        "outputId": "686ae4bd-6713-4df5-ee36-32dd3cc494a5"
      },
      "cell_type": "code",
      "source": [
        "data1 = merge_train_df.loc[(merge_train_df[\"Scaled_Sales\"]>10000000.0) & (merge_train_df[\"Scaled_Expense_Price\"]<2200.0)]\n",
        "print(data1)\n",
        "print(data1[\"Country\"].unique())\n",
        "\n",
        "plt.scatter(data1[\"Scaled_Expense_Price\"], data1[\"Scaled_Sales\"])"
      ],
      "execution_count": 37,
      "outputs": [
        {
          "output_type": "stream",
          "text": [
            "     Year  Month  Country  Product_ID  Expense_Price      Sales  \\\n",
            "236  2013      1  Finland           4          750.6 15153419.5   \n",
            "239  2013      2  Finland           4          809.1 16524812.2   \n",
            "242  2013      3  Finland           4         1310.5 28217082.2   \n",
            "245  2013      4  Finland           4         1065.6 22522665.6   \n",
            "248  2013      5  Finland           4         1513.3 32942281.0   \n",
            "..    ...    ...      ...         ...            ...        ...   \n",
            "323  2015      6  Finland           4         1517.1 31931776.3   \n",
            "326  2015      7  Finland           4         1313.7 28287106.2   \n",
            "329  2015      8  Finland           4         1334.4 28765115.0   \n",
            "332  2015      9  Finland           4         1350.6 28817795.2   \n",
            "335  2015     10  Finland           4         1441.1 31268810.9   \n",
            "\n",
            "     Scaled_Expense_Price  Scaled_Sales  \n",
            "236                 878.2    17729500.8  \n",
            "239                 946.7    19334030.2  \n",
            "242                1533.2    33013986.2  \n",
            "245                1246.8    26351518.8  \n",
            "248                1770.6    38542468.7  \n",
            "..                    ...           ...  \n",
            "323                1775.0    37360178.3  \n",
            "326                1537.0    33095914.3  \n",
            "329                1561.2    33655184.5  \n",
            "332                1580.2    33716820.3  \n",
            "335                1686.0    36584508.7  \n",
            "\n",
            "[34 rows x 8 columns]\n",
            "['Finland']\n"
          ],
          "name": "stdout"
        },
        {
          "output_type": "execute_result",
          "data": {
            "text/plain": [
              "<matplotlib.collections.PathCollection at 0x7ff9de273710>"
            ]
          },
          "metadata": {
            "tags": []
          },
          "execution_count": 37
        },
        {
          "output_type": "display_data",
          "data": {
            "image/png": "[encoded data removed]",
            "text/plain": [
              "<matplotlib.figure.Figure at 0x7ff9de765908>"
            ]
          },
          "metadata": {
            "tags": []
          }
        }
      ]
    },
    {
      "metadata": {
        "id": "t3S1ExARl6mD",
        "colab_type": "code",
        "colab": {
          "base_uri": "https://localhost:8080/",
          "height": 526
        },
        "outputId": "5d649c1a-cea9-4000-e1da-9acfd1dde7c5"
      },
      "cell_type": "code",
      "source": [
        "print(merge_train_df.loc[(merge_train_df[\"Country\"]=='Finland')])"
      ],
      "execution_count": 38,
      "outputs": [
        {
          "output_type": "stream",
          "text": [
            "     Year  Month  Country  Product_ID  Expense_Price      Sales  \\\n",
            "236  2013      1  Finland           4          750.6 15153419.5   \n",
            "239  2013      2  Finland           4          809.1 16524812.2   \n",
            "242  2013      3  Finland           4         1310.5 28217082.2   \n",
            "245  2013      4  Finland           4         1065.6 22522665.6   \n",
            "248  2013      5  Finland           4         1513.3 32942281.0   \n",
            "..    ...    ...      ...         ...            ...        ...   \n",
            "323  2015      6  Finland           4         1517.1 31931776.3   \n",
            "326  2015      7  Finland           4         1313.7 28287106.2   \n",
            "329  2015      8  Finland           4         1334.4 28765115.0   \n",
            "332  2015      9  Finland           4         1350.6 28817795.2   \n",
            "335  2015     10  Finland           4         1441.1 31268810.9   \n",
            "\n",
            "     Scaled_Expense_Price  Scaled_Sales  \n",
            "236                 878.2    17729500.8  \n",
            "239                 946.7    19334030.2  \n",
            "242                1533.2    33013986.2  \n",
            "245                1246.8    26351518.8  \n",
            "248                1770.6    38542468.7  \n",
            "..                    ...           ...  \n",
            "323                1775.0    37360178.3  \n",
            "326                1537.0    33095914.3  \n",
            "329                1561.2    33655184.5  \n",
            "332                1580.2    33716820.3  \n",
            "335                1686.0    36584508.7  \n",
            "\n",
            "[34 rows x 8 columns]\n"
          ],
          "name": "stdout"
        }
      ]
    },
    {
      "metadata": {
        "id": "xuQIUPCJo4GR",
        "colab_type": "code",
        "colab": {
          "base_uri": "https://localhost:8080/",
          "height": 905
        },
        "outputId": "70378c0f-e231-43b1-9901-0bafe0cc8f8a"
      },
      "cell_type": "code",
      "source": [
        "data2 = merge_train_df.loc[merge_train_df[\"Scaled_Expense_Price\"]>5000.0]\n",
        "print(data2)\n",
        "print(data2[\"Country\"].unique())\n",
        "\n",
        "plt.scatter(data2[\"Scaled_Expense_Price\"], data2[\"Scaled_Sales\"])"
      ],
      "execution_count": 39,
      "outputs": [
        {
          "output_type": "stream",
          "text": [
            "     Year  Month  Country  Product_ID  Expense_Price       Sales  \\\n",
            "5    2013      1  Denmark           2        43843.9 101847627.1   \n",
            "11   2013      2  Denmark           2        37731.3  84457811.4   \n",
            "17   2013      3  Denmark           2        40274.6  89156080.6   \n",
            "23   2013      4  Denmark           2        45275.8  99166393.9   \n",
            "29   2013      5  Denmark           2        46157.2 106042169.9   \n",
            "..    ...    ...      ...         ...            ...         ...   \n",
            "209  2015     11  Denmark           2        63298.2 171598330.3   \n",
            "215  2015     12  Denmark           2        80201.5 199093884.0   \n",
            "221  2016      1  Denmark           2        48144.3 126197283.9   \n",
            "227  2016      2  Denmark           2        62181.0 176268459.0   \n",
            "233  2016      3  Denmark           2        73427.1 195700752.6   \n",
            "\n",
            "     Scaled_Expense_Price  Scaled_Sales  \n",
            "5                  7015.0    16295620.3  \n",
            "11                 6037.0    13513249.8  \n",
            "17                 6443.9    14264972.9  \n",
            "23                 7244.1    15866623.0  \n",
            "29                 7385.1    16966747.2  \n",
            "..                    ...           ...  \n",
            "209               10127.7    27455732.9  \n",
            "215               12832.2    31855021.4  \n",
            "221                7703.1    20191565.4  \n",
            "227                9949.0    28202953.4  \n",
            "233               11748.3    31312120.4  \n",
            "\n",
            "[39 rows x 8 columns]\n",
            "['Denmark']\n"
          ],
          "name": "stdout"
        },
        {
          "output_type": "execute_result",
          "data": {
            "text/plain": [
              "<matplotlib.collections.PathCollection at 0x7ff9de70e3c8>"
            ]
          },
          "metadata": {
            "tags": []
          },
          "execution_count": 39
        },
        {
          "output_type": "display_data",
          "data": {
            "image/png": "[encoded data removed]",
            "text/plain": [
              "<matplotlib.figure.Figure at 0x7ff9de8efa20>"
            ]
          },
          "metadata": {
            "tags": []
          }
        }
      ]
    },
    {
      "metadata": {
        "id": "eHQR5r8gpSH0",
        "colab_type": "code",
        "colab": {
          "base_uri": "https://localhost:8080/",
          "height": 526
        },
        "outputId": "42ae008d-4324-4d06-f180-e6508f164343"
      },
      "cell_type": "code",
      "source": [
        "print(merge_train_df.loc[(merge_train_df[\"Country\"]=='Denmark')])"
      ],
      "execution_count": 20,
      "outputs": [
        {
          "output_type": "stream",
          "text": [
            "     Year  Month  Country  Product_ID  Expense_Price       Sales  \\\n",
            "5    2013      1  Denmark           2        43843.9 101847627.1   \n",
            "11   2013      2  Denmark           2        37731.3  84457811.4   \n",
            "17   2013      3  Denmark           2        40274.6  89156080.6   \n",
            "23   2013      4  Denmark           2        45275.8  99166393.9   \n",
            "29   2013      5  Denmark           2        46157.2 106042169.9   \n",
            "..    ...    ...      ...         ...            ...         ...   \n",
            "209  2015     11  Denmark           2        63298.2 171598330.3   \n",
            "215  2015     12  Denmark           2        80201.5 199093884.0   \n",
            "221  2016      1  Denmark           2        48144.3 126197283.9   \n",
            "227  2016      2  Denmark           2        62181.0 176268459.0   \n",
            "233  2016      3  Denmark           2        73427.1 195700752.6   \n",
            "\n",
            "     Scaled_Expense_Price  Scaled_Sales  \n",
            "5                  7015.0    16295620.3  \n",
            "11                 6037.0    13513249.8  \n",
            "17                 6443.9    14264972.9  \n",
            "23                 7244.1    15866623.0  \n",
            "29                 7385.1    16966747.2  \n",
            "..                    ...           ...  \n",
            "209               10127.7    27455732.9  \n",
            "215               12832.2    31855021.4  \n",
            "221                7703.1    20191565.4  \n",
            "227                9949.0    28202953.4  \n",
            "233               11748.3    31312120.4  \n",
            "\n",
            "[39 rows x 8 columns]\n"
          ],
          "name": "stdout"
        }
      ]
    },
    {
      "metadata": {
        "id": "stj6oASOr63b",
        "colab_type": "code",
        "colab": {
          "base_uri": "https://localhost:8080/",
          "height": 894
        },
        "outputId": "9f5dece7-e989-451b-bc9e-4fd1ffb4d2a0"
      },
      "cell_type": "code",
      "source": [
        "data3 = merge_train_df.loc[(merge_train_df[\"Scaled_Sales\"]<10000000.0) & (merge_train_df[\"Scaled_Expense_Price\"]<2000.0)]\n",
        "print(data3)\n",
        "print(data3[\"Country\"].unique())\n",
        "\n",
        "plt.scatter(data3[\"Scaled_Expense_Price\"], data3[\"Scaled_Sales\"])"
      ],
      "execution_count": 21,
      "outputs": [
        {
          "output_type": "stream",
          "text": [
            "     Year  Month    Country  Product_ID  Expense_Price      Sales  \\\n",
            "0    2013      1  Argentina           1        14749.3 34346025.0   \n",
            "1    2013      1  Argentina           2         1329.4  2751851.5   \n",
            "2    2013      1    Belgium           2          249.6   314850.1   \n",
            "3    2013      1   Columbia           1         1893.1  3947356.3   \n",
            "4    2013      1   Columbia           2         1436.7  2885137.1   \n",
            "..    ...    ...        ...         ...            ...        ...   \n",
            "328  2015      8    England           5          312.2   465606.5   \n",
            "330  2015      9    England           4          178.5   175108.6   \n",
            "331  2015      9    England           5          381.9   627134.7   \n",
            "333  2015     10    England           4          174.7   164722.1   \n",
            "334  2015     10    England           5          381.8   624252.7   \n",
            "\n",
            "     Scaled_Expense_Price  Scaled_Sales  \n",
            "0                   531.0     1236456.9  \n",
            "1                    47.9       99066.7  \n",
            "2                   292.0      368374.7  \n",
            "3                     0.7        1381.6  \n",
            "4                     0.5        1009.8  \n",
            "..                    ...           ...  \n",
            "328                 409.0      609944.6  \n",
            "330                 233.8      229392.3  \n",
            "331                 500.3      821546.5  \n",
            "333                 228.8      215786.0  \n",
            "334                 500.2      817771.0  \n",
            "\n",
            "[263 rows x 8 columns]\n",
            "['Argentina' 'Belgium' 'Columbia' 'England']\n"
          ],
          "name": "stdout"
        },
        {
          "output_type": "execute_result",
          "data": {
            "text/plain": [
              "<matplotlib.collections.PathCollection at 0x7ff9e0a82588>"
            ]
          },
          "metadata": {
            "tags": []
          },
          "execution_count": 21
        },
        {
          "output_type": "display_data",
          "data": {
            "image/png": "[encoded data removed]",
            "text/plain": [
              "<matplotlib.figure.Figure at 0x7ff9e09d2b00>"
            ]
          },
          "metadata": {
            "tags": []
          }
        }
      ]
    },
    {
      "metadata": {
        "id": "0FkpLD_jdJvn",
        "colab_type": "text"
      },
      "cell_type": "markdown",
      "source": [
        "We make the following observation:\n",
        "* Data points in 1st bin belong to Finland (points form line with high slope)\n",
        "* Data points in 2nd bin belong to Denmark (points form line with moderate slope)\n",
        "* Data points in 3rd bin belong to the remaining 4 countries, namely Argentina, Belgium, Columbia and England (points which are close to origin)"
      ]
    },
    {
      "metadata": {
        "id": "zEej5krpmyb4",
        "colab_type": "text"
      },
      "cell_type": "markdown",
      "source": [
        "Above visualisation and analysis show that two features, namely Country and Scaled_Expense_Prices mainly determine the target value of Scaled_Sales.\n",
        "\n",
        "Let's group the training data so as to keep these two features and sum the entries of Scaled_Sales for common rows."
      ]
    },
    {
      "metadata": {
        "id": "ovxVmCUEnirz",
        "colab_type": "code",
        "colab": {
          "base_uri": "https://localhost:8080/",
          "height": 696
        },
        "outputId": "b775ab77-ba8d-4a83-f0e5-796f937ebeee"
      },
      "cell_type": "code",
      "source": [
        "grouped_df2 = merge_train_df.drop(columns=['Year','Month','Product_ID','Expense_Price','Sales'])\n",
        "grouped_df2 = grouped_df2.groupby([\"Country\",\"Scaled_Expense_Price\"]).sum().apply(list)\n",
        "grouped_df2 = grouped_df2.reset_index()    # flattening the grouped dataframe\n",
        "\n",
        "print(grouped_df2.head())\n",
        "print(grouped_df2.describe())\n",
        "print(grouped_df2.hist())"
      ],
      "execution_count": 22,
      "outputs": [
        {
          "output_type": "stream",
          "text": [
            "     Country  Scaled_Expense_Price  Scaled_Sales\n",
            "0  Argentina                  42.9       92628.2\n",
            "1  Argentina                  47.3      100955.3\n",
            "2  Argentina                  47.9       99066.7\n",
            "3  Argentina                  56.5      133662.7\n",
            "4  Argentina                  59.7      123704.5\n",
            "       Scaled_Expense_Price  Scaled_Sales\n",
            "count                 336.0         336.0\n",
            "mean                 1334.8     6078557.4\n",
            "std                  2664.3    11523048.6\n",
            "min                     0.4         868.6\n",
            "25%                    63.5      135272.3\n",
            "50%                   413.4      598108.7\n",
            "75%                   685.6     1564225.4\n",
            "max                 12832.2    58633293.4\n",
            "[[<matplotlib.axes._subplots.AxesSubplot object at 0x7ff9de382f28>\n",
            "  <matplotlib.axes._subplots.AxesSubplot object at 0x7ff9de350a90>]]\n"
          ],
          "name": "stdout"
        },
        {
          "output_type": "display_data",
          "data": {
            "image/png": "[encoded data removed]",
            "text/plain": [
              "<matplotlib.figure.Figure at 0x7ff9e0a82ba8>"
            ]
          },
          "metadata": {
            "tags": []
          }
        }
      ]
    },
    {
      "metadata": {
        "id": "OACcYN-UesO7",
        "colab_type": "text"
      },
      "cell_type": "markdown",
      "source": [
        "Let's now apply the same changes to Test data too."
      ]
    },
    {
      "metadata": {
        "id": "IJa7GZBRyNS6",
        "colab_type": "code",
        "colab": {}
      },
      "cell_type": "code",
      "source": [
        "# Merge expenses_df and yds_test_df dataframes preserving all the rows that were present in yds_test_df\n",
        "merge_test_df = pd.merge(yds_test_df, expenses_df, on = ['Year','Month','Product_ID','Country'], how='left')\n",
        "\n",
        "# Sort the rows based on S_No as that's how yds_test_df is sorted\n",
        "merge_test_df = merge_test_df.sort_values('S_No')\n",
        "merge_test_df = merge_test_df.drop(columns='S_No')\n",
        "\n",
        "merge_test_df[\"Sales\"] = 0.0"
      ],
      "execution_count": 0,
      "outputs": []
    },
    {
      "metadata": {
        "id": "VUwbXy1VyfpY",
        "colab_type": "code",
        "colab": {
          "base_uri": "https://localhost:8080/",
          "height": 909
        },
        "outputId": "5a27812f-6e11-4367-b359-2b3ccf518947"
      },
      "cell_type": "code",
      "source": [
        "print(merge_test_df.describe())\n",
        "print(merge_test_df.hist())\n",
        "print(merge_test_df)"
      ],
      "execution_count": 176,
      "outputs": [
        {
          "output_type": "stream",
          "text": [
            "        Year  Month  Product_ID  Sales  Expense_Price\n",
            "count  105.0  105.0       105.0  105.0           99.0\n",
            "mean  2016.2    6.0         2.4    0.0        10903.7\n",
            "std      0.5    3.6         1.3    0.0        22514.8\n",
            "min   2015.0    1.0         1.0    0.0          157.8\n",
            "25%   2016.0    3.0         2.0    0.0          743.6\n",
            "50%   2016.0    6.0         2.0    0.0         1792.3\n",
            "75%   2016.0    9.0         4.0    0.0         3889.7\n",
            "max   2017.0   12.0         5.0    0.0        84161.8\n",
            "[[<matplotlib.axes._subplots.AxesSubplot object at 0x7ff9d46084e0>\n",
            "  <matplotlib.axes._subplots.AxesSubplot object at 0x7ff9d435b048>]\n",
            " [<matplotlib.axes._subplots.AxesSubplot object at 0x7ff9d61b9668>\n",
            "  <matplotlib.axes._subplots.AxesSubplot object at 0x7ff9d5c87780>]\n",
            " [<matplotlib.axes._subplots.AxesSubplot object at 0x7ff9d4d490b8>\n",
            "  <matplotlib.axes._subplots.AxesSubplot object at 0x7ff9d4d495f8>]]\n",
            "     Year  Month  Product_ID    Country  Sales  Expense_Price\n",
            "0    2016      4           1  Argentina    0.0         8214.9\n",
            "1    2016      5           1  Argentina    0.0        10777.9\n",
            "2    2016      6           1  Argentina    0.0        10320.7\n",
            "3    2016      7           1  Argentina    0.0         7377.6\n",
            "4    2016      8           1  Argentina    0.0         9805.7\n",
            "..    ...    ...         ...        ...    ...            ...\n",
            "100  2016      3           4    Finland    0.0         1439.7\n",
            "101  2016      4           4    Finland    0.0         1378.9\n",
            "102  2016      5           4    Finland    0.0          970.2\n",
            "103  2016      6           4    Finland    0.0         1289.0\n",
            "104  2016      7           4    Finland    0.0          900.1\n",
            "\n",
            "[105 rows x 6 columns]\n"
          ],
          "name": "stdout"
        },
        {
          "output_type": "display_data",
          "data": {
            "image/png": "[encoded data removed]",
            "text/plain": [
              "<matplotlib.figure.Figure at 0x7ff9d431e128>"
            ]
          },
          "metadata": {
            "tags": []
          }
        }
      ]
    },
    {
      "metadata": {
        "id": "QIQxf6lse9AF",
        "colab_type": "text"
      },
      "cell_type": "markdown",
      "source": [
        "Replace rows with nan values in Expense_Price column with its mean value in training data respective to the country."
      ]
    },
    {
      "metadata": {
        "id": "u0AiQx5oyjT4",
        "colab_type": "code",
        "colab": {
          "base_uri": "https://localhost:8080/",
          "height": 55
        },
        "outputId": "f04e7db5-470c-45f0-f48e-04a0ddcaf901"
      },
      "cell_type": "code",
      "source": [
        "train_arg = merge_train_df.loc[merge_train_df['Country']=='Argentina']\n",
        "mean_train_arg = train_arg[\"Expense_Price\"].mean()\n",
        "\n",
        "train_col = merge_train_df.loc[merge_train_df['Country']=='Columbia']\n",
        "mean_train_col = train_col[\"Expense_Price\"].mean()\n",
        "\n",
        "print(mean_train_arg)\n",
        "print(mean_train_col)"
      ],
      "execution_count": 44,
      "outputs": [
        {
          "output_type": "stream",
          "text": [
            "8222.515128205127\n",
            "2210.50158974359\n"
          ],
          "name": "stdout"
        }
      ]
    },
    {
      "metadata": {
        "id": "K-h6TM0vzDOO",
        "colab_type": "code",
        "colab": {
          "base_uri": "https://localhost:8080/",
          "height": 245
        },
        "outputId": "68ad494c-e3be-48d5-8ada-f93aa98f2cac"
      },
      "cell_type": "code",
      "source": [
        "for i in zip(*np.where(pd.isnull(merge_test_df['Expense_Price']))):\n",
        "  if merge_test_df['Country'].loc[i] == 'Argentina':\n",
        "    merge_test_df['Expense_Price'].loc[i] = mean_train_arg\n",
        "  elif merge_test_df['Country'].loc[i] == 'Columbia':\n",
        "    merge_test_df['Expense_Price'].loc[i] = mean_train_col\n",
        "\n",
        "print(merge_test_df.tail())"
      ],
      "execution_count": 177,
      "outputs": [
        {
          "output_type": "stream",
          "text": [
            "/usr/local/lib/python3.6/dist-packages/pandas/core/indexing.py:621: SettingWithCopyWarning: \n",
            "A value is trying to be set on a copy of a slice from a DataFrame\n",
            "\n",
            "See the caveats in the documentation: http://pandas.pydata.org/pandas-docs/stable/indexing.html#indexing-view-versus-copy\n",
            "  self.obj[item_labels[indexer[info_axis]]] = value\n"
          ],
          "name": "stderr"
        },
        {
          "output_type": "stream",
          "text": [
            "     Year  Month  Product_ID  Country  Sales  Expense_Price\n",
            "100  2016      3           4  Finland    0.0         1439.7\n",
            "101  2016      4           4  Finland    0.0         1378.9\n",
            "102  2016      5           4  Finland    0.0          970.2\n",
            "103  2016      6           4  Finland    0.0         1289.0\n",
            "104  2016      7           4  Finland    0.0          900.1\n"
          ],
          "name": "stdout"
        }
      ]
    },
    {
      "metadata": {
        "id": "34fQpCytzOdP",
        "colab_type": "code",
        "colab": {
          "base_uri": "https://localhost:8080/",
          "height": 526
        },
        "outputId": "1b39b2b6-caa4-46e9-db46-2143728e455f"
      },
      "cell_type": "code",
      "source": [
        "merge_test_df = scaling_usd(merge_test_df)\n",
        "\n",
        "print(merge_test_df)"
      ],
      "execution_count": 178,
      "outputs": [
        {
          "output_type": "stream",
          "text": [
            "     Year  Month  Product_ID    Country  Sales  Expense_Price  \\\n",
            "0    2016      4           1  Argentina    0.0         8214.9   \n",
            "1    2016      5           1  Argentina    0.0        10777.9   \n",
            "2    2016      6           1  Argentina    0.0        10320.7   \n",
            "3    2016      7           1  Argentina    0.0         7377.6   \n",
            "4    2016      8           1  Argentina    0.0         9805.7   \n",
            "..    ...    ...         ...        ...    ...            ...   \n",
            "100  2016      3           4    Finland    0.0         1439.7   \n",
            "101  2016      4           4    Finland    0.0         1378.9   \n",
            "102  2016      5           4    Finland    0.0          970.2   \n",
            "103  2016      6           4    Finland    0.0         1289.0   \n",
            "104  2016      7           4    Finland    0.0          900.1   \n",
            "\n",
            "     Scaled_Expense_Price  Scaled_Sales  \n",
            "0                   295.7           0.0  \n",
            "1                   388.0           0.0  \n",
            "2                   371.5           0.0  \n",
            "3                   265.6           0.0  \n",
            "4                   353.0           0.0  \n",
            "..                    ...           ...  \n",
            "100                1684.5           0.0  \n",
            "101                1613.3           0.0  \n",
            "102                1135.1           0.0  \n",
            "103                1508.2           0.0  \n",
            "104                1053.1           0.0  \n",
            "\n",
            "[105 rows x 8 columns]\n"
          ],
          "name": "stdout"
        }
      ]
    },
    {
      "metadata": {
        "id": "V1fFgXDZz16g",
        "colab_type": "code",
        "colab": {
          "base_uri": "https://localhost:8080/",
          "height": 834
        },
        "outputId": "c6936915-6343-4867-de46-bb597ffcef22"
      },
      "cell_type": "code",
      "source": [
        "test_grouped_df2 = merge_test_df.drop(columns=['Year','Month','Product_ID','Expense_Price','Sales'])\n",
        "\n",
        "# Don't do grouping of test data as that reduces the number of rows.\n",
        "#test_grouped_df2 = test_grouped_df2.groupby([\"Country\",\"Scaled_Expense_Price\"]).sum().apply(list)\n",
        "#test_grouped_df2 = test_grouped_df2.reset_index()    # flattening the grouped dataframe\n",
        "\n",
        "print(test_grouped_df2)\n",
        "print(test_grouped_df2.describe())\n",
        "print(test_grouped_df2.hist())"
      ],
      "execution_count": 179,
      "outputs": [
        {
          "output_type": "stream",
          "text": [
            "       Country  Scaled_Expense_Price  Scaled_Sales\n",
            "0    Argentina                 295.7           0.0\n",
            "1    Argentina                 388.0           0.0\n",
            "2    Argentina                 371.5           0.0\n",
            "3    Argentina                 265.6           0.0\n",
            "4    Argentina                 353.0           0.0\n",
            "..         ...                   ...           ...\n",
            "100    Finland                1684.5           0.0\n",
            "101    Finland                1613.3           0.0\n",
            "102    Finland                1135.1           0.0\n",
            "103    Finland                1508.2           0.0\n",
            "104    Finland                1053.1           0.0\n",
            "\n",
            "[105 rows x 3 columns]\n",
            "       Scaled_Expense_Price  Scaled_Sales\n",
            "count                 105.0         105.0\n",
            "mean                 1627.8           0.0\n",
            "std                  3525.7           0.0\n",
            "min                     0.5           0.0\n",
            "25%                     1.4           0.0\n",
            "50%                   295.7           0.0\n",
            "75%                   849.6           0.0\n",
            "max                 13465.9           0.0\n",
            "[[<matplotlib.axes._subplots.AxesSubplot object at 0x7ff9d4cd39b0>\n",
            "  <matplotlib.axes._subplots.AxesSubplot object at 0x7ff9d4d49588>]]\n"
          ],
          "name": "stdout"
        },
        {
          "output_type": "display_data",
          "data": {
            "image/png": "[encoded data removed]",
            "text/plain": [
              "<matplotlib.figure.Figure at 0x7ff9d4f54710>"
            ]
          },
          "metadata": {
            "tags": []
          }
        }
      ]
    },
    {
      "metadata": {
        "id": "d-HRnknJ0OPr",
        "colab_type": "code",
        "colab": {
          "base_uri": "https://localhost:8080/",
          "height": 55
        },
        "outputId": "7a2f2038-a75f-4112-b504-b04380f73fc3"
      },
      "cell_type": "code",
      "source": [
        "# Check the final number of training and test data points.\n",
        "print(grouped_df2.shape[0])\n",
        "print(test_grouped_df2.shape[0])"
      ],
      "execution_count": 109,
      "outputs": [
        {
          "output_type": "stream",
          "text": [
            "336\n",
            "105\n"
          ],
          "name": "stdout"
        }
      ]
    },
    {
      "metadata": {
        "id": "y2UyWPnvmeS9",
        "colab_type": "text"
      },
      "cell_type": "markdown",
      "source": [
        "As there is not much difference in Sales and Expenses value of rows in 3rd bin (points that are close to 0), we remove the Country name and instead label them all as 'Others' in Country column to simplify the model."
      ]
    },
    {
      "metadata": {
        "id": "dyRr-MOf2Dt6",
        "colab_type": "code",
        "colab": {}
      },
      "cell_type": "code",
      "source": [
        "def country_others(dataframe):\n",
        "  \n",
        "  for i, row in dataframe.iterrows():\n",
        "    if (row[\"Country\"]=='Argentina' or \n",
        "        row[\"Country\"]=='Belgium' or \n",
        "        row[\"Country\"]=='Columbia' or \n",
        "        row[\"Country\"]=='England'):\n",
        "      dataframe.at[i, \"Country\"] = \"Others\"\n",
        "  return dataframe"
      ],
      "execution_count": 0,
      "outputs": []
    },
    {
      "metadata": {
        "id": "P_3wSpcYBixP",
        "colab_type": "code",
        "colab": {
          "base_uri": "https://localhost:8080/",
          "height": 583
        },
        "outputId": "fdda8318-b052-4c93-a5b7-1c994fff3d67"
      },
      "cell_type": "code",
      "source": [
        "grouped_df2 = country_others(grouped_df2)\n",
        "binned_test_df2 = country_others(test_grouped_df2)\n",
        "\n",
        "print(grouped_df2)\n",
        "print(grouped_df2[\"Country\"].unique())\n",
        "print(binned_test_df2)\n",
        "print(binned_test_df2[\"Country\"].unique())"
      ],
      "execution_count": 180,
      "outputs": [
        {
          "output_type": "stream",
          "text": [
            "     Country  Scaled_Expense_Price  Scaled_Sales\n",
            "0     Others                  42.9       92628.2\n",
            "1     Others                  47.3      100955.3\n",
            "2     Others                  47.9       99066.7\n",
            "3     Others                  56.5      133662.7\n",
            "4     Others                  59.7      123704.5\n",
            "..       ...                   ...           ...\n",
            "331  Finland                1818.5    39664424.2\n",
            "332  Finland                1852.7    46611515.1\n",
            "333  Finland                1858.5    10582560.3\n",
            "334  Finland                1990.4    43674039.3\n",
            "335  Finland                2027.1    44483391.7\n",
            "\n",
            "[336 rows x 3 columns]\n",
            "['Others' 'Denmark' 'Finland']\n",
            "     Country  Scaled_Expense_Price  Scaled_Sales\n",
            "0     Others                 295.7           0.0\n",
            "1     Others                 388.0           0.0\n",
            "2     Others                 371.5           0.0\n",
            "3     Others                 265.6           0.0\n",
            "4     Others                 353.0           0.0\n",
            "..       ...                   ...           ...\n",
            "100  Finland                1684.5           0.0\n",
            "101  Finland                1613.3           0.0\n",
            "102  Finland                1135.1           0.0\n",
            "103  Finland                1508.2           0.0\n",
            "104  Finland                1053.1           0.0\n",
            "\n",
            "[105 rows x 3 columns]\n",
            "['Others' 'Denmark' 'Finland']\n"
          ],
          "name": "stdout"
        }
      ]
    },
    {
      "metadata": {
        "id": "yq01OwEun6eS",
        "colab_type": "text"
      },
      "cell_type": "markdown",
      "source": [
        "As Country contains string values and not numeric, its difficult to use the data for model training. Therefore, we replace Country column with 3 new ones, namely, 'Others', 'Denmark' and 'Finland' and add 1.0 to the column where country name belongs to that."
      ]
    },
    {
      "metadata": {
        "id": "DjscoiEl1pcM",
        "colab_type": "code",
        "colab": {
          "base_uri": "https://localhost:8080/",
          "height": 36
        },
        "outputId": "e854446a-4e61-41f5-ca3a-43fd34b743fa"
      },
      "cell_type": "code",
      "source": [
        "Country = list(grouped_df2[\"Country\"].unique())\n",
        "print(Country)"
      ],
      "execution_count": 53,
      "outputs": [
        {
          "output_type": "stream",
          "text": [
            "['Others', 'Denmark', 'Finland']\n"
          ],
          "name": "stdout"
        }
      ]
    },
    {
      "metadata": {
        "id": "voAePEOlCSnx",
        "colab_type": "code",
        "colab": {}
      },
      "cell_type": "code",
      "source": [
        "def select_and_transform_features(source_df, expenses=False):\n",
        "  selected_ex = pd.DataFrame()\n",
        "  selected_ex[\"Scaled_Sales\"] = source_df[\"Scaled_Sales\"]\n",
        "  \n",
        "  if expenses:\n",
        "    selected_ex[\"Scaled_Expense_Price\"] = source_df[\"Scaled_Expense_Price\"]\n",
        "        \n",
        "  for c in Country:\n",
        "    selected_ex[c] = source_df[\"Country\"].apply(\n",
        "      lambda l: 1.0 if l == c else 0.0)\n",
        "  \n",
        "  return selected_ex"
      ],
      "execution_count": 0,
      "outputs": []
    },
    {
      "metadata": {
        "id": "EThVLrghDSMm",
        "colab_type": "code",
        "colab": {
          "base_uri": "https://localhost:8080/",
          "height": 281
        },
        "outputId": "9e061bc7-07d6-47d9-9841-db47659463da"
      },
      "cell_type": "code",
      "source": [
        "selected_grouped_df2 = select_and_transform_features(grouped_df2, expenses=True)\n",
        "print(selected_grouped_df2)"
      ],
      "execution_count": 55,
      "outputs": [
        {
          "output_type": "stream",
          "text": [
            "     Scaled_Sales  Scaled_Expense_Price  Others  Denmark  Finland\n",
            "0         92628.2                  42.9     1.0      0.0      0.0\n",
            "1        100955.3                  47.3     1.0      0.0      0.0\n",
            "2         99066.7                  47.9     1.0      0.0      0.0\n",
            "3        133662.7                  56.5     1.0      0.0      0.0\n",
            "4        123704.5                  59.7     1.0      0.0      0.0\n",
            "..            ...                   ...     ...      ...      ...\n",
            "331    39664424.2                1818.5     0.0      0.0      1.0\n",
            "332    46611515.1                1852.7     0.0      0.0      1.0\n",
            "333    10582560.3                1858.5     0.0      0.0      1.0\n",
            "334    43674039.3                1990.4     0.0      0.0      1.0\n",
            "335    44483391.7                2027.1     0.0      0.0      1.0\n",
            "\n",
            "[336 rows x 5 columns]\n"
          ],
          "name": "stdout"
        }
      ]
    },
    {
      "metadata": {
        "id": "eVdVPhVcDrmo",
        "colab_type": "code",
        "colab": {
          "base_uri": "https://localhost:8080/",
          "height": 281
        },
        "outputId": "95378a23-0fa1-462a-b323-0d69569393e0"
      },
      "cell_type": "code",
      "source": [
        "selected_test_grouped_df2 = select_and_transform_features(binned_test_df2, expenses=True)\n",
        "print(selected_test_grouped_df2)"
      ],
      "execution_count": 181,
      "outputs": [
        {
          "output_type": "stream",
          "text": [
            "     Scaled_Sales  Scaled_Expense_Price  Others  Denmark  Finland\n",
            "0             0.0                 295.7     1.0      0.0      0.0\n",
            "1             0.0                 388.0     1.0      0.0      0.0\n",
            "2             0.0                 371.5     1.0      0.0      0.0\n",
            "3             0.0                 265.6     1.0      0.0      0.0\n",
            "4             0.0                 353.0     1.0      0.0      0.0\n",
            "..            ...                   ...     ...      ...      ...\n",
            "100           0.0                1684.5     0.0      0.0      1.0\n",
            "101           0.0                1613.3     0.0      0.0      1.0\n",
            "102           0.0                1135.1     0.0      0.0      1.0\n",
            "103           0.0                1508.2     0.0      0.0      1.0\n",
            "104           0.0                1053.1     0.0      0.0      1.0\n",
            "\n",
            "[105 rows x 5 columns]\n"
          ],
          "name": "stdout"
        }
      ]
    },
    {
      "metadata": {
        "id": "zdP1f6d1o_z_",
        "colab_type": "text"
      },
      "cell_type": "markdown",
      "source": [
        "Randomize the Training data and split it into Training and Validation set."
      ]
    },
    {
      "metadata": {
        "id": "3vJd41FQ0lXz",
        "colab_type": "code",
        "colab": {}
      },
      "cell_type": "code",
      "source": [
        "# Randomize the rows\n",
        "selected_grouped_df2 = selected_grouped_df2.reindex(np.random.permutation(selected_grouped_df2.index))"
      ],
      "execution_count": 0,
      "outputs": []
    },
    {
      "metadata": {
        "id": "VKOvGhwF0zDK",
        "colab_type": "code",
        "colab": {
          "base_uri": "https://localhost:8080/",
          "height": 847
        },
        "outputId": "1d6a967c-8ce2-4ecf-be78-83f2a56d25cb"
      },
      "cell_type": "code",
      "source": [
        "split_ratio = 0.7\n",
        "total = len(grouped_df2)\n",
        "split = int(split_ratio * total)\n",
        "\n",
        "feature = selected_grouped_df2[[\"Others\", \"Denmark\",\"Finland\",\"Scaled_Expense_Price\"]]\n",
        "target = selected_grouped_df2[[\"Scaled_Sales\"]]\n",
        "\n",
        "train_ex = feature.head(split)\n",
        "train_targets = target.head(split)\n",
        "validation_ex = feature.tail(total-split)\n",
        "validation_targets = target.tail(total-split)\n",
        "\n",
        "print(train_ex.shape[0])\n",
        "print(validation_targets.shape[0])\n",
        "print(train_ex)\n",
        "print(train_targets)\n",
        "print(validation_targets)"
      ],
      "execution_count": 59,
      "outputs": [
        {
          "output_type": "stream",
          "text": [
            "235\n",
            "101\n",
            "     Others  Denmark  Finland  Scaled_Expense_Price\n",
            "26      1.0      0.0      0.0                 102.3\n",
            "306     0.0      0.0      1.0                1246.8\n",
            "128     1.0      0.0      0.0                   0.6\n",
            "124     1.0      0.0      0.0                   0.5\n",
            "215     0.0      1.0      0.0                8169.9\n",
            "..      ...      ...      ...                   ...\n",
            "180     1.0      0.0      0.0                   1.0\n",
            "300     1.0      0.0      0.0                 574.3\n",
            "250     1.0      0.0      0.0                 236.3\n",
            "23      1.0      0.0      0.0                  97.6\n",
            "51      1.0      0.0      0.0                 478.4\n",
            "\n",
            "[235 rows x 4 columns]\n",
            "     Scaled_Sales\n",
            "26       234446.3\n",
            "306    26351518.8\n",
            "128        1132.3\n",
            "124        1102.3\n",
            "215    20388131.7\n",
            "..            ...\n",
            "180        2114.9\n",
            "300      993320.7\n",
            "250      208705.1\n",
            "23       234618.0\n",
            "51      1192174.2\n",
            "\n",
            "[235 rows x 1 columns]\n",
            "     Scaled_Sales\n",
            "232    30416759.8\n",
            "258      229523.1\n",
            "335    44483391.7\n",
            "91       650498.8\n",
            "43      1209978.0\n",
            "..            ...\n",
            "157        1465.1\n",
            "282      667363.3\n",
            "40       530655.3\n",
            "329    37360178.3\n",
            "117         868.6\n",
            "\n",
            "[101 rows x 1 columns]\n"
          ],
          "name": "stdout"
        }
      ]
    },
    {
      "metadata": {
        "id": "ncLkgi1bphXQ",
        "colab_type": "text"
      },
      "cell_type": "markdown",
      "source": [
        "Below are functions for Machine Learning model training. We use the following:\n",
        "* Linear Regressor to fit a straight hyperplane to the data\n",
        "* Adagrad Optimizer with gradient clipping\n",
        "* L2 regularization\n",
        "\n",
        "To calculate the loss, we use Symmetric Mean Absolute Percent Error (SMAPE). SMAPE is the average of difference between forecast and actual values divided by the sum of their absolute values."
      ]
    },
    {
      "metadata": {
        "id": "tcq2Rw1xQ73s",
        "colab_type": "code",
        "colab": {}
      },
      "cell_type": "code",
      "source": [
        "def construct_feature_columns(input_features):\n",
        "  \"\"\"Construct the TensorFlow Feature Columns.\n",
        "\n",
        "  Args:\n",
        "    input_features: The names of the numerical input features to use.\n",
        "  Returns:\n",
        "    A set of feature columns\n",
        "  \"\"\"\n",
        "  return set([tf.feature_column.numeric_column(my_feature)\n",
        "              for my_feature in input_features])"
      ],
      "execution_count": 0,
      "outputs": []
    },
    {
      "metadata": {
        "id": "7DjkQHdiRoYt",
        "colab_type": "code",
        "colab": {}
      },
      "cell_type": "code",
      "source": [
        "def my_input_fn(features, targets, batch_size=1, shuffle=True, num_epochs=None):\n",
        "    \"\"\"Trains a linear regression model.\n",
        "  \n",
        "    Args:\n",
        "      features: pandas DataFrame of features\n",
        "      targets: pandas DataFrame of targets\n",
        "      batch_size: Size of batches to be passed to the model\n",
        "      shuffle: True or False. Whether to shuffle the data.\n",
        "      num_epochs: Number of epochs for which data should be repeated. None = repeat indefinitely\n",
        "    Returns:\n",
        "      Tuple of (features, labels) for next data batch\n",
        "    \"\"\"\n",
        "    \n",
        "    # Convert pandas data into a dict of np arrays.\n",
        "    features = {key:np.array(value) for key,value in dict(features).items()}                                            \n",
        " \n",
        "    # Construct a dataset, and configure batching/repeating.\n",
        "    ds = Dataset.from_tensor_slices((features,targets)) # warning: 2GB limit\n",
        "    ds = ds.batch(batch_size).repeat(num_epochs)\n",
        "    \n",
        "    # Shuffle the data, if specified.\n",
        "    if shuffle:\n",
        "      ds = ds.shuffle(100)\n",
        "    \n",
        "    # Return the next batch of data.\n",
        "    features, labels = ds.make_one_shot_iterator().get_next()\n",
        "    return features, labels"
      ],
      "execution_count": 0,
      "outputs": []
    },
    {
      "metadata": {
        "id": "-eXp5gkkCJ3T",
        "colab_type": "code",
        "colab": {}
      },
      "cell_type": "code",
      "source": [
        "import math\n",
        "\n",
        "def smape_fast(y_pred, y_true):\n",
        "    out = 0\n",
        "    for i in range(y_true.shape[0]):\n",
        "        a = math.fabs(y_true[i])\n",
        "        b = math.fabs(y_pred[i])\n",
        "        c = a + b\n",
        "        if c == 0:\n",
        "            continue\n",
        "        out += math.fabs(a - b) / c\n",
        "    out *= (200.0 / y_true.shape[0])\n",
        "    return out"
      ],
      "execution_count": 0,
      "outputs": []
    },
    {
      "metadata": {
        "id": "dO7I_TMXDCuf",
        "colab_type": "code",
        "colab": {}
      },
      "cell_type": "code",
      "source": [
        "def train_linear_regressor_model(\n",
        "    learning_rate,\n",
        "    steps,\n",
        "    batch_size,\n",
        "    regularization,\n",
        "    training_examples,\n",
        "    training_targets,\n",
        "    validation_examples,\n",
        "    validation_targets):\n",
        "  \"\"\"Trains a linear regression model.\n",
        "  \n",
        "  In addition to training, this function also prints training progress information,\n",
        "  as well as a plot of the training and validation loss over time.\n",
        "\n",
        "  Returns:\n",
        "    A `LinearRegressor` object trained on the training data.\n",
        "  \"\"\"\n",
        "\n",
        "  periods = 15\n",
        "  steps_per_period = steps / periods\n",
        "\n",
        "  # Create a linear regressor object.\n",
        "  my_optimizer = tf.train.ProximalAdagradOptimizer(learning_rate=learning_rate,\n",
        "                                                  l2_regularization_strength=regularization)  #Adagrad\n",
        "  my_optimizer = tf.contrib.estimator.clip_gradients_by_norm(my_optimizer, 5.0)\n",
        "  \n",
        "  linear_regressor = tf.estimator.LinearRegressor(\n",
        "      feature_columns=construct_feature_columns(training_examples),\n",
        "      optimizer=my_optimizer\n",
        "  )\n",
        "\n",
        "  # Create input functions.\n",
        "  training_input_fn = lambda: my_input_fn(training_examples, \n",
        "                                          training_targets, \n",
        "                                          batch_size=batch_size)\n",
        "  predict_training_input_fn = lambda: my_input_fn(training_examples, \n",
        "                                                  training_targets, \n",
        "                                                  num_epochs=1, \n",
        "                                                  shuffle=False)\n",
        "  predict_validation_input_fn = lambda: my_input_fn(validation_examples, \n",
        "                                                    validation_targets, \n",
        "                                                    num_epochs=1, \n",
        "                                                    shuffle=False)\n",
        "\n",
        "  # Train the model, but do so inside a loop so that we can periodically assess loss metrics.\n",
        "  print(\"Training model...\")\n",
        "  print(\"SMAPE (on training data):\")\n",
        "  training_smape = []\n",
        "  validation_smape = []\n",
        "  for period in range (0, periods):\n",
        "    # Train the model, starting from the prior state.\n",
        "    linear_regressor.train(\n",
        "        input_fn=training_input_fn,\n",
        "        steps=steps_per_period\n",
        "    )\n",
        "    \n",
        "    # Take a break and compute predictions.\n",
        "    training_predictions = linear_regressor.predict(input_fn=predict_training_input_fn)\n",
        "    training_predictions = np.array([item['predictions'][0] for item in training_predictions])\n",
        "    \n",
        "    validation_predictions = linear_regressor.predict(input_fn=predict_validation_input_fn)\n",
        "    validation_predictions = np.array([item['predictions'][0] for item in validation_predictions])\n",
        "    \n",
        "    # Compute training and validation loss.\n",
        "    training_smape_error = smape_fast(training_predictions, np.array(training_targets.values))\n",
        "    validation_smape_error = smape_fast(validation_predictions, np.array(validation_targets.values))\n",
        "    \n",
        "    # Occasionally print the current loss.\n",
        "    print(\"  period %02d : %0.2f\" % (period, training_smape_error))\n",
        "    \n",
        "    # Add the loss metrics from this period to our list.\n",
        "    training_smape.append(training_smape_error)\n",
        "    validation_smape.append(validation_smape_error)\n",
        "  \n",
        "  print(\"Model training finished.\")\n",
        "\n",
        "  # Output a graph of loss metrics over periods.\n",
        "  plt.ylabel(\"SMAPE\")\n",
        "  plt.xlabel(\"Periods\")\n",
        "  plt.title(\"SMAPE Error vs. Periods\")\n",
        "  plt.tight_layout()\n",
        "  plt.plot(training_smape, label=\"training\")\n",
        "  plt.plot(validation_smape, label=\"validation\")\n",
        "  plt.legend()\n",
        "\n",
        "  return linear_regressor"
      ],
      "execution_count": 0,
      "outputs": []
    },
    {
      "metadata": {
        "id": "P2YJfBqjGLuh",
        "colab_type": "text"
      },
      "cell_type": "markdown",
      "source": [
        "Below is the actual training function. There are 4 hyperparameters which you need to tune to get an optimized model with lowest SMAPE loss. \n",
        "\n",
        "Feel free to tweak these values."
      ]
    },
    {
      "metadata": {
        "id": "XgEysbVN5O5r",
        "colab_type": "code",
        "colab": {
          "base_uri": "https://localhost:8080/",
          "height": 741
        },
        "outputId": "4c00cb9a-be04-44fd-ade1-d104113e0a3d"
      },
      "cell_type": "code",
      "source": [
        "linear_regressor = train_linear_regressor_model(\n",
        "    learning_rate=40.0,\n",
        "    steps=1000,\n",
        "    batch_size=10,\n",
        "    regularization=0.00006,\n",
        "    training_examples=train_ex,\n",
        "    training_targets=train_targets,\n",
        "    validation_examples=validation_ex,\n",
        "    validation_targets=validation_targets)"
      ],
      "execution_count": 65,
      "outputs": [
        {
          "output_type": "stream",
          "text": [
            "Training model...\n",
            "SMAPE (on training data):\n",
            "  period 00 : 107.90\n",
            "  period 01 : 80.55\n",
            "  period 02 : 65.31\n",
            "  period 03 : 55.36\n",
            "  period 04 : 47.73\n",
            "  period 05 : 42.78\n",
            "  period 06 : 39.37\n",
            "  period 07 : 37.12\n",
            "  period 08 : 35.60\n",
            "  period 09 : 35.97\n",
            "  period 10 : 35.00\n",
            "  period 11 : 35.22\n",
            "  period 12 : 35.89\n",
            "  period 13 : 36.58\n",
            "  period 14 : 37.22\n",
            "Model training finished.\n"
          ],
          "name": "stdout"
        },
        {
          "output_type": "display_data",
          "data": {
            "image/png": "[encoded data removed]",
            "text/plain": [
              "<matplotlib.figure.Figure at 0x7ff9d61894a8>"
            ]
          },
          "metadata": {
            "tags": []
          }
        }
      ]
    },
    {
      "metadata": {
        "id": "XkphbcnIso6C",
        "colab_type": "text"
      },
      "cell_type": "markdown",
      "source": [
        "Use the trained model to predict target values of Validation data and then, compare them with the actual target values. As before, we plot Scaled_Expense_Price v/s Scaled_Sales."
      ]
    },
    {
      "metadata": {
        "id": "nMCaQvgiQ6E3",
        "colab_type": "code",
        "colab": {
          "base_uri": "https://localhost:8080/",
          "height": 187
        },
        "outputId": "2d82ae70-5fba-45c1-e114-b80ec2130aeb"
      },
      "cell_type": "code",
      "source": [
        "predict_validation_input_fn = lambda: my_input_fn(validation_ex, \n",
        "                                                    validation_targets, \n",
        "                                                    num_epochs=1, \n",
        "                                                    shuffle=False)\n",
        "\n",
        "validation_predictions = linear_regressor.predict(input_fn=predict_validation_input_fn)\n",
        "validation_predictions = np.array([item['predictions'][0] for item in validation_predictions])\n",
        "\n",
        "predictions_df = pd.DataFrame()\n",
        "predictions_df[\"Feature\"] = validation_ex[\"Scaled_Expense_Price\"]\n",
        "predictions_df[\"Target\"] = validation_targets\n",
        "predictions_df[\"Prediction\"] = validation_predictions\n",
        "print(predictions_df.describe())"
      ],
      "execution_count": 67,
      "outputs": [
        {
          "output_type": "stream",
          "text": [
            "       Feature     Target  Prediction\n",
            "count    101.0      101.0       101.0\n",
            "mean    1091.0  6261297.0   2514324.5\n",
            "std     2297.2 11883334.3   5294350.0\n",
            "min        0.4      868.6       981.6\n",
            "25%       63.5   133147.6    146283.2\n",
            "50%      250.8   282262.7    578057.2\n",
            "75%      586.5  1592759.7   1351649.8\n",
            "max    11906.9 44483391.7  27441290.0\n"
          ],
          "name": "stdout"
        }
      ]
    },
    {
      "metadata": {
        "id": "VQyboDvzRJsT",
        "colab_type": "code",
        "colab": {
          "base_uri": "https://localhost:8080/",
          "height": 377
        },
        "outputId": "40a3f19a-fa9a-4f1c-be23-0a0170e7dd6d"
      },
      "cell_type": "code",
      "source": [
        "plt.scatter(predictions_df[\"Feature\"], predictions_df[\"Target\"])\n",
        "plt.scatter(predictions_df[\"Feature\"], predictions_df[\"Prediction\"])"
      ],
      "execution_count": 68,
      "outputs": [
        {
          "output_type": "execute_result",
          "data": {
            "text/plain": [
              "<matplotlib.collections.PathCollection at 0x7ff9d4126208>"
            ]
          },
          "metadata": {
            "tags": []
          },
          "execution_count": 68
        },
        {
          "output_type": "display_data",
          "data": {
            "image/png": "[encoded data removed]",
            "text/plain": [
              "<matplotlib.figure.Figure at 0x7ff9d37540b8>"
            ]
          },
          "metadata": {
            "tags": []
          }
        }
      ]
    },
    {
      "metadata": {
        "id": "Dk3n90cds_bM",
        "colab_type": "text"
      },
      "cell_type": "markdown",
      "source": [
        "We note that the trained Linear Regressor completely ignores the data points forming line with high slope (pertaining to Finland) and gives totally wrong prediction for these points. It performs well for data belonging to the other two bins."
      ]
    },
    {
      "metadata": {
        "id": "09Xo1ZhHtcIR",
        "colab_type": "text"
      },
      "cell_type": "markdown",
      "source": [
        "Convert test data into appropriate format and predict the target value for it."
      ]
    },
    {
      "metadata": {
        "id": "OqmAPIOHRKqQ",
        "colab_type": "code",
        "colab": {
          "base_uri": "https://localhost:8080/",
          "height": 545
        },
        "outputId": "d1823416-4ecb-402e-bcf6-95e9beda35c2"
      },
      "cell_type": "code",
      "source": [
        "test_feature = selected_test_grouped_df2[[\"Others\", \"Denmark\",\"Finland\",\"Scaled_Expense_Price\"]]\n",
        "test_target = selected_test_grouped_df2[[\"Scaled_Sales\"]]\n",
        "\n",
        "print(test_feature)\n",
        "print(test_target)"
      ],
      "execution_count": 182,
      "outputs": [
        {
          "output_type": "stream",
          "text": [
            "     Others  Denmark  Finland  Scaled_Expense_Price\n",
            "0       1.0      0.0      0.0                 295.7\n",
            "1       1.0      0.0      0.0                 388.0\n",
            "2       1.0      0.0      0.0                 371.5\n",
            "3       1.0      0.0      0.0                 265.6\n",
            "4       1.0      0.0      0.0                 353.0\n",
            "..      ...      ...      ...                   ...\n",
            "100     0.0      0.0      1.0                1684.5\n",
            "101     0.0      0.0      1.0                1613.3\n",
            "102     0.0      0.0      1.0                1135.1\n",
            "103     0.0      0.0      1.0                1508.2\n",
            "104     0.0      0.0      1.0                1053.1\n",
            "\n",
            "[105 rows x 4 columns]\n",
            "     Scaled_Sales\n",
            "0             0.0\n",
            "1             0.0\n",
            "2             0.0\n",
            "3             0.0\n",
            "4             0.0\n",
            "..            ...\n",
            "100           0.0\n",
            "101           0.0\n",
            "102           0.0\n",
            "103           0.0\n",
            "104           0.0\n",
            "\n",
            "[105 rows x 1 columns]\n"
          ],
          "name": "stdout"
        }
      ]
    },
    {
      "metadata": {
        "id": "QrpppOE2R7QT",
        "colab_type": "code",
        "colab": {}
      },
      "cell_type": "code",
      "source": [
        "predict_test_input_fn = lambda: my_input_fn(test_feature, \n",
        "                                            test_target, \n",
        "                                            num_epochs=1, \n",
        "                                            shuffle=False)\n",
        "\n",
        "test_predictions = linear_regressor.predict(input_fn=predict_test_input_fn)\n",
        "test_predictions = np.array([item['predictions'][0] for item in test_predictions])"
      ],
      "execution_count": 0,
      "outputs": []
    },
    {
      "metadata": {
        "id": "UCR_FWKBSE0o",
        "colab_type": "code",
        "colab": {
          "base_uri": "https://localhost:8080/",
          "height": 168
        },
        "outputId": "6039b778-2cba-4c79-e876-b1ec42910b8b"
      },
      "cell_type": "code",
      "source": [
        "print(test_feature.head())\n",
        "print(test_predictions[0:5])\n",
        "print(len(test_predictions))"
      ],
      "execution_count": 184,
      "outputs": [
        {
          "output_type": "stream",
          "text": [
            "   Others  Denmark  Finland  Scaled_Expense_Price\n",
            "0     1.0      0.0      0.0                 295.7\n",
            "1     1.0      0.0      0.0                 388.0\n",
            "2     1.0      0.0      0.0                 371.5\n",
            "3     1.0      0.0      0.0                 265.6\n",
            "4     1.0      0.0      0.0                 353.0\n",
            "[681540.75 894186.8  856253.6  612073.   813528.  ]\n",
            "105\n"
          ],
          "name": "stdout"
        }
      ]
    },
    {
      "metadata": {
        "id": "3ZwWSZZ_t22g",
        "colab_type": "text"
      },
      "cell_type": "markdown",
      "source": [
        "Extract the predicted values for data points belonging to Finland. Compare that with the Sales value of data points belonging to Finland in training data."
      ]
    },
    {
      "metadata": {
        "id": "wZu1pXF1STdc",
        "colab_type": "code",
        "colab": {
          "base_uri": "https://localhost:8080/",
          "height": 206
        },
        "outputId": "740fa1f1-7687-4a2d-ef88-1f1c39a25838"
      },
      "cell_type": "code",
      "source": [
        "print(test_feature.loc[(test_feature['Finland']==1.0)])"
      ],
      "execution_count": 185,
      "outputs": [
        {
          "output_type": "stream",
          "text": [
            "     Others  Denmark  Finland  Scaled_Expense_Price\n",
            "96      0.0      0.0      1.0                1528.9\n",
            "97      0.0      0.0      1.0                1754.4\n",
            "98      0.0      0.0      1.0                1382.1\n",
            "99      0.0      0.0      1.0                1100.0\n",
            "100     0.0      0.0      1.0                1684.5\n",
            "101     0.0      0.0      1.0                1613.3\n",
            "102     0.0      0.0      1.0                1135.1\n",
            "103     0.0      0.0      1.0                1508.2\n",
            "104     0.0      0.0      1.0                1053.1\n"
          ],
          "name": "stdout"
        }
      ]
    },
    {
      "metadata": {
        "id": "f20lBBXw_q-8",
        "colab_type": "code",
        "colab": {
          "base_uri": "https://localhost:8080/",
          "height": 55
        },
        "outputId": "d4951f32-8f3c-4a34-fa60-4fc5b786ee86"
      },
      "cell_type": "code",
      "source": [
        "print(test_predictions[96:105])"
      ],
      "execution_count": 186,
      "outputs": [
        {
          "output_type": "stream",
          "text": [
            "[3523552.5 4043201.  3185351.  2535197.2 3882188.  3718041.8 2616098.8\n",
            " 3475806.5 2427048.5]\n"
          ],
          "name": "stdout"
        }
      ]
    },
    {
      "metadata": {
        "id": "pLhjQCWoS5TT",
        "colab_type": "code",
        "colab": {
          "base_uri": "https://localhost:8080/",
          "height": 281
        },
        "outputId": "1977bcdd-bba4-4540-a2e7-d7c92e44aecd"
      },
      "cell_type": "code",
      "source": [
        "print(grouped_df2.loc[(grouped_df2['Country']=='Finland')])"
      ],
      "execution_count": 187,
      "outputs": [
        {
          "output_type": "stream",
          "text": [
            "     Country  Scaled_Expense_Price  Scaled_Sales\n",
            "302  Finland                 878.2    17729500.8\n",
            "303  Finland                 946.7    19334030.2\n",
            "304  Finland                1031.4    21315658.3\n",
            "305  Finland                1078.4    22412442.9\n",
            "306  Finland                1246.8    26351518.8\n",
            "..       ...                   ...           ...\n",
            "331  Finland                1818.5    39664424.2\n",
            "332  Finland                1852.7    46611515.1\n",
            "333  Finland                1858.5    10582560.3\n",
            "334  Finland                1990.4    43674039.3\n",
            "335  Finland                2027.1    44483391.7\n",
            "\n",
            "[34 rows x 3 columns]\n"
          ],
          "name": "stdout"
        }
      ]
    },
    {
      "metadata": {
        "id": "HcQwbrAvudBX",
        "colab_type": "text"
      },
      "cell_type": "markdown",
      "source": [
        "We see that the predicted values for above data (of Finland) is off by one digit place. Its range is 1/10th of the range of values in training data."
      ]
    },
    {
      "metadata": {
        "id": "pJYFP7BOvWK0",
        "colab_type": "text"
      },
      "cell_type": "markdown",
      "source": [
        "We convert back the predicted values from USD to their appropriate local currency."
      ]
    },
    {
      "metadata": {
        "id": "UEbKOo9uvTFD",
        "colab_type": "code",
        "colab": {}
      },
      "cell_type": "code",
      "source": [
        "def usd_to_local(dataframe_orig):\n",
        "  # Scaling USD to local currency\n",
        "  \n",
        "  # Local currency to USD conversion rate\n",
        "  arg_usd = 0.036\n",
        "  bel_usd = 1.17\n",
        "  col_usd = 0.00035\n",
        "  den_usd = 0.16\n",
        "  eng_usd = 1.31\n",
        "  fin_usd = 1.17\n",
        "  \n",
        "  # Make a copy of original dataframe as the function modifies the original not a copy of it.\n",
        "  dataframe = pd.DataFrame()\n",
        "  dataframe = dataframe_orig.copy()\n",
        "  \n",
        "  for i, row in dataframe.iterrows():\n",
        "    if row[\"Country\"] == 'Argentina':\n",
        "      dataframe.at[i, \"Scaled_Expense_Price\"] = (1.0/arg_usd) * row[\"Scaled_Expense_Price\"]\n",
        "      dataframe.at[i, \"Scaled_Sales\"] = (1.0/arg_usd) * row[\"Scaled_Sales\"]\n",
        "    elif row[\"Country\"] == 'Belgium':\n",
        "      dataframe.at[i, \"Scaled_Expense_Price\"] = (1.0/bel_usd) * row[\"Scaled_Expense_Price\"]\n",
        "      dataframe.at[i, \"Scaled_Sales\"] = (1.0/bel_usd) * row[\"Scaled_Sales\"]\n",
        "    elif row[\"Country\"] == 'Columbia':\n",
        "      dataframe.at[i, \"Scaled_Expense_Price\"] = (1.0/col_usd) * row[\"Scaled_Expense_Price\"]\n",
        "      dataframe.at[i, \"Scaled_Sales\"] = (1.0/col_usd) * row[\"Scaled_Sales\"]\n",
        "    elif row[\"Country\"] == 'Denmark':\n",
        "      dataframe.at[i, \"Scaled_Expense_Price\"] = (1.0/den_usd) * row[\"Scaled_Expense_Price\"]\n",
        "      dataframe.at[i, \"Scaled_Sales\"] = (1.0/den_usd) * row[\"Scaled_Sales\"]\n",
        "    elif row[\"Country\"] == 'England':\n",
        "      dataframe.at[i, \"Scaled_Expense_Price\"] = (1.0/eng_usd) * row[\"Scaled_Expense_Price\"]\n",
        "      dataframe.at[i, \"Scaled_Sales\"] = (1.0/eng_usd) * row[\"Scaled_Sales\"]\n",
        "    elif row[\"Country\"] == 'Finland':\n",
        "      dataframe.at[i, \"Scaled_Expense_Price\"] = (1.0/fin_usd) * row[\"Scaled_Expense_Price\"]\n",
        "      dataframe.at[i, \"Scaled_Sales\"] = (1.0/fin_usd) * row[\"Scaled_Sales\"]\n",
        "  \n",
        "  return dataframe"
      ],
      "execution_count": 0,
      "outputs": []
    },
    {
      "metadata": {
        "id": "ueZP3gv6yUhb",
        "colab_type": "code",
        "colab": {
          "base_uri": "https://localhost:8080/",
          "height": 281
        },
        "outputId": "1ba9459a-2ae3-49d8-9832-ecba6ed6c4bf"
      },
      "cell_type": "code",
      "source": [
        "test_grouped_df2[\"Scaled_Sales\"] = test_predictions\n",
        "print(test_grouped_df2)"
      ],
      "execution_count": 189,
      "outputs": [
        {
          "output_type": "stream",
          "text": [
            "     Country  Scaled_Expense_Price  Scaled_Sales\n",
            "0     Others                 295.7      681540.8\n",
            "1     Others                 388.0      894186.8\n",
            "2     Others                 371.5      856253.6\n",
            "3     Others                 265.6      612073.0\n",
            "4     Others                 353.0      813528.0\n",
            "..       ...                   ...           ...\n",
            "100  Finland                1684.5     3882188.0\n",
            "101  Finland                1613.3     3718041.8\n",
            "102  Finland                1135.1     2616098.8\n",
            "103  Finland                1508.2     3475806.5\n",
            "104  Finland                1053.1     2427048.5\n",
            "\n",
            "[105 rows x 3 columns]\n"
          ],
          "name": "stdout"
        }
      ]
    },
    {
      "metadata": {
        "id": "5cWMcwMAv1pD",
        "colab_type": "code",
        "colab": {
          "base_uri": "https://localhost:8080/",
          "height": 281
        },
        "outputId": "b50e9ea5-c85c-45d0-bfcd-87ead5a86978"
      },
      "cell_type": "code",
      "source": [
        "test_local_currency = usd_to_local(test_grouped_df2)\n",
        "print(test_local_currency)"
      ],
      "execution_count": 190,
      "outputs": [
        {
          "output_type": "stream",
          "text": [
            "     Country  Scaled_Expense_Price  Scaled_Sales\n",
            "0     Others                 295.7      681540.8\n",
            "1     Others                 388.0      894186.8\n",
            "2     Others                 371.5      856253.6\n",
            "3     Others                 265.6      612073.0\n",
            "4     Others                 353.0      813528.0\n",
            "..       ...                   ...           ...\n",
            "100  Finland                1439.7     3318109.5\n",
            "101  Finland                1378.9     3177813.5\n",
            "102  Finland                 970.2     2235981.8\n",
            "103  Finland                1289.0     2970774.8\n",
            "104  Finland                 900.1     2074400.4\n",
            "\n",
            "[105 rows x 3 columns]\n"
          ],
          "name": "stdout"
        }
      ]
    },
    {
      "metadata": {
        "id": "zIzewhLGQgi2",
        "colab_type": "text"
      },
      "cell_type": "markdown",
      "source": [
        "Add the final Sales value column to the Test data."
      ]
    },
    {
      "metadata": {
        "id": "ltXRTD4SyCuo",
        "colab_type": "code",
        "colab": {
          "base_uri": "https://localhost:8080/",
          "height": 408
        },
        "outputId": "b5444dfb-355a-4c62-9f06-c6c994e569ff"
      },
      "cell_type": "code",
      "source": [
        "yds_test_df['Sales'] = np.asarray(test_local_currency['Scaled_Sales'])\n",
        "yds_test_df"
      ],
      "execution_count": 196,
      "outputs": [
        {
          "output_type": "execute_result",
          "data": {
            "text/html": [
              "<div>\n",
              "<style scoped>\n",
              "    .dataframe tbody tr th:only-of-type {\n",
              "        vertical-align: middle;\n",
              "    }\n",
              "\n",
              "    .dataframe tbody tr th {\n",
              "        vertical-align: top;\n",
              "    }\n",
              "\n",
              "    .dataframe thead th {\n",
              "        text-align: right;\n",
              "    }\n",
              "</style>\n",
              "<table border=\"1\" class=\"dataframe\">\n",
              "  <thead>\n",
              "    <tr style=\"text-align: right;\">\n",
              "      <th></th>\n",
              "      <th>S_No</th>\n",
              "      <th>Year</th>\n",
              "      <th>Month</th>\n",
              "      <th>Product_ID</th>\n",
              "      <th>Country</th>\n",
              "      <th>Sales</th>\n",
              "    </tr>\n",
              "  </thead>\n",
              "  <tbody>\n",
              "    <tr>\n",
              "      <th>0</th>\n",
              "      <td>79073</td>\n",
              "      <td>2016</td>\n",
              "      <td>4</td>\n",
              "      <td>1</td>\n",
              "      <td>Argentina</td>\n",
              "      <td>681540.8</td>\n",
              "    </tr>\n",
              "    <tr>\n",
              "      <th>1</th>\n",
              "      <td>79074</td>\n",
              "      <td>2016</td>\n",
              "      <td>5</td>\n",
              "      <td>1</td>\n",
              "      <td>Argentina</td>\n",
              "      <td>894186.8</td>\n",
              "    </tr>\n",
              "    <tr>\n",
              "      <th>2</th>\n",
              "      <td>79075</td>\n",
              "      <td>2016</td>\n",
              "      <td>6</td>\n",
              "      <td>1</td>\n",
              "      <td>Argentina</td>\n",
              "      <td>856253.6</td>\n",
              "    </tr>\n",
              "    <tr>\n",
              "      <th>3</th>\n",
              "      <td>79076</td>\n",
              "      <td>2016</td>\n",
              "      <td>7</td>\n",
              "      <td>1</td>\n",
              "      <td>Argentina</td>\n",
              "      <td>612073.0</td>\n",
              "    </tr>\n",
              "    <tr>\n",
              "      <th>4</th>\n",
              "      <td>79077</td>\n",
              "      <td>2016</td>\n",
              "      <td>8</td>\n",
              "      <td>1</td>\n",
              "      <td>Argentina</td>\n",
              "      <td>813528.0</td>\n",
              "    </tr>\n",
              "    <tr>\n",
              "      <th>...</th>\n",
              "      <td>...</td>\n",
              "      <td>...</td>\n",
              "      <td>...</td>\n",
              "      <td>...</td>\n",
              "      <td>...</td>\n",
              "      <td>...</td>\n",
              "    </tr>\n",
              "    <tr>\n",
              "      <th>100</th>\n",
              "      <td>79173</td>\n",
              "      <td>2016</td>\n",
              "      <td>3</td>\n",
              "      <td>4</td>\n",
              "      <td>Finland</td>\n",
              "      <td>3318109.5</td>\n",
              "    </tr>\n",
              "    <tr>\n",
              "      <th>101</th>\n",
              "      <td>79174</td>\n",
              "      <td>2016</td>\n",
              "      <td>4</td>\n",
              "      <td>4</td>\n",
              "      <td>Finland</td>\n",
              "      <td>3177813.5</td>\n",
              "    </tr>\n",
              "    <tr>\n",
              "      <th>102</th>\n",
              "      <td>79175</td>\n",
              "      <td>2016</td>\n",
              "      <td>5</td>\n",
              "      <td>4</td>\n",
              "      <td>Finland</td>\n",
              "      <td>2235981.8</td>\n",
              "    </tr>\n",
              "    <tr>\n",
              "      <th>103</th>\n",
              "      <td>79176</td>\n",
              "      <td>2016</td>\n",
              "      <td>6</td>\n",
              "      <td>4</td>\n",
              "      <td>Finland</td>\n",
              "      <td>2970774.8</td>\n",
              "    </tr>\n",
              "    <tr>\n",
              "      <th>104</th>\n",
              "      <td>79177</td>\n",
              "      <td>2016</td>\n",
              "      <td>7</td>\n",
              "      <td>4</td>\n",
              "      <td>Finland</td>\n",
              "      <td>2074400.4</td>\n",
              "    </tr>\n",
              "  </tbody>\n",
              "</table>\n",
              "<p>105 rows × 6 columns</p>\n",
              "</div>"
            ],
            "text/plain": [
              "      S_No  Year  Month  Product_ID    Country     Sales\n",
              "0    79073  2016      4           1  Argentina  681540.8\n",
              "1    79074  2016      5           1  Argentina  894186.8\n",
              "2    79075  2016      6           1  Argentina  856253.6\n",
              "3    79076  2016      7           1  Argentina  612073.0\n",
              "4    79077  2016      8           1  Argentina  813528.0\n",
              "..     ...   ...    ...         ...        ...       ...\n",
              "100  79173  2016      3           4    Finland 3318109.5\n",
              "101  79174  2016      4           4    Finland 3177813.5\n",
              "102  79175  2016      5           4    Finland 2235981.8\n",
              "103  79176  2016      6           4    Finland 2970774.8\n",
              "104  79177  2016      7           4    Finland 2074400.4\n",
              "\n",
              "[105 rows x 6 columns]"
            ]
          },
          "metadata": {
            "tags": []
          },
          "execution_count": 196
        }
      ]
    },
    {
      "metadata": {
        "id": "HomUaU-QE0Jw",
        "colab_type": "text"
      },
      "cell_type": "markdown",
      "source": [
        "Finally, we convert the dataframe of Test data into a .csv file and download it.\n",
        "\n",
        "\n",
        "P.S. - Use Chrome to download the file using code below as it doesn't work in other browsers."
      ]
    },
    {
      "metadata": {
        "id": "ud6igKD7DAdN",
        "colab_type": "code",
        "colab": {}
      },
      "cell_type": "code",
      "source": [
        "yds_test_df.to_csv('yds_submission2018.csv', index=False)\n",
        "\n",
        "from google.colab import files\n",
        "files.download('yds_submission2018.csv')"
      ],
      "execution_count": 0,
      "outputs": []
    },
    {
      "metadata": {
        "id": "ABdHvnfbDo2C",
        "colab_type": "text"
      },
      "cell_type": "markdown",
      "source": [
        "If you have reached till the end, then pat yourself on the back. You're trully a Rockstar!\n",
        "\n",
        "#<-----End----->"
      ]
    }
  ]
}